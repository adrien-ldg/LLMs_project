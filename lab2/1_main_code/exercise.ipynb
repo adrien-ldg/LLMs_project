{
 "cells": [
  {
   "cell_type": "markdown",
   "id": "ab88d307-61ba-45ef-89bc-e3569443dfca",
   "metadata": {},
   "source": [
    "# Chapter 2 - Lab 1a - Exercise\n",
    "> Author : Badr TAJINI - Large Language model (LLMs) - ESIEE 2024-2025"
   ]
  },
  {
   "cell_type": "markdown",
   "id": "6f678e62-7bcb-4405-86ae-dce94f494303",
   "metadata": {},
   "source": [
    "# Exercise 2.1"
   ]
  },
  {
   "cell_type": "markdown",
   "id": "46fde9a6",
   "metadata": {},
   "source": [
    "### Exploring Byte Pair Encoding (BPE) Tokenization with Unknown Words\n",
    "\n",
    "In this exercise, you will explore how the Byte Pair Encoding (BPE) tokenizer from the `tiktoken` library processes unknown words. BPE is a subword tokenization technique that constructs its vocabulary by iteratively merging frequent sequences of characters or subwords. This approach allows BPE tokenizers to handle previously unseen words by decomposing them into smaller, known subunits.\n",
    "\n",
    "### Objective\n",
    "Answer the following questions based on your experimentation with the tokenizer:\n",
    "\n",
    "1. How does the BPE tokenizer decompose the input phrase **\"Akwirw ier\"** into token IDs?\n",
    "2. What are the subwords or characters corresponding to each token ID in the tokenized output?\n",
    "3. Can the tokenizer's decoding process successfully reconstruct the original input phrase **\"Akwirw ier\"** from the token IDs? Why or why not?\n",
    "\n",
    "### Theoretical Background\n",
    "Byte Pair Encoding begins with a minimal vocabulary of single characters, such as **\"a,\" \"b,\" \"c,\"** and so on. The tokenizer builds upon this base by iteratively merging frequently co-occurring characters into subwords, and subsequently merging frequent subwords into complete words. The merging process is guided by a frequency threshold or cutoff. \n",
    "\n",
    "For example:\n",
    "- In the initial stage, the character **\"d\"** and **\"e\"** might frequently appear together in a corpus. The tokenizer merges these characters into the subword **\"de\"** if their co-occurrence exceeds the frequency cutoff.\n",
    "- This subword then becomes part of the tokenizer's vocabulary and is used to tokenize words where it occurs, such as **\"define,\" \"depend,\" \"made,\"** and **\"hidden.\"**\n",
    "\n",
    "This hierarchical merging enables the BPE tokenizer to strike a balance between granularity and generalization, efficiently encoding both common words and rare or unknown words by breaking them into smaller units.\n",
    "\n",
    "### Task Steps\n",
    "\n",
    "1. **Tokenization**:\n",
    "   - Use the `tiktoken` BPE tokenizer to process the unknown input string **\"Akwirw ier.\"**\n",
    "   - Print the token IDs generated for this input.\n",
    "\n",
    "2. **Subword Decoding**:\n",
    "   - For each token ID in the resulting list, use the tokenizer's `decode` function to convert the ID back into its corresponding subword or character.\n",
    "\n",
    "3. **Reconstruction**:\n",
    "   - Apply the `decode` method to the entire list of token IDs to reconstruct the original input string. Verify whether the reconstructed string matches the initial input, **\"Akwirw ier.\"**\n",
    "\n",
    "\n",
    "\n",
    "### Questions - Exercise 2.1\n",
    "1. What sequence of token IDs does the BPE tokenizer generate for the input **\"Akwirw ier\"?**\n",
    "2. What subwords or characters correspond to each token ID in the sequence?\n",
    "3. Does the reconstructed output from the token IDs match the original input? Explain your observations and reasoning.\n",
    "\n"
   ]
  },
  {
   "cell_type": "code",
   "execution_count": 24,
   "id": "665f08f5-069e-4f7a-b2d7-1598ed4ec48c",
   "metadata": {},
   "outputs": [],
   "source": [
    "import tiktoken\n",
    "import torch"
   ]
  },
  {
   "cell_type": "code",
   "execution_count": 14,
   "id": "6f9cacd0-4214-4c0c-8fb0-8519e9df0214",
   "metadata": {},
   "outputs": [],
   "source": [
    "txt = \"Akwirw ier\"\n",
    "\n",
    "tokenizer = tiktoken.get_encoding(\"gpt2\")"
   ]
  },
  {
   "cell_type": "code",
   "execution_count": 15,
   "id": "478d8ece-0ebf-4a7c-8fdb-9ae07a5db0a3",
   "metadata": {},
   "outputs": [
    {
     "data": {
      "text/plain": [
       "[33901, 86, 343, 86, 220, 959]"
      ]
     },
     "execution_count": 15,
     "metadata": {},
     "output_type": "execute_result"
    }
   ],
   "source": [
    "ids = tokenizer.encode(txt)\n",
    "\n",
    "ids"
   ]
  },
  {
   "cell_type": "code",
   "execution_count": 16,
   "id": "c48e71a0-bf3d-4149-8688-ac04524f04c0",
   "metadata": {},
   "outputs": [
    {
     "data": {
      "text/plain": [
       "{33901: 'Ak', 86: 'w', 343: 'ir', 220: ' ', 959: 'ier'}"
      ]
     },
     "execution_count": 16,
     "metadata": {},
     "output_type": "execute_result"
    }
   ],
   "source": [
    "tokens = {token_id:tokenizer.decode([token_id]) for token_id in ids}\n",
    "\n",
    "tokens"
   ]
  },
  {
   "cell_type": "code",
   "execution_count": 17,
   "id": "f49f9c64-c47c-4257-b0a3-aaf05c80f188",
   "metadata": {},
   "outputs": [
    {
     "data": {
      "text/plain": [
       "'Akwirw ier'"
      ]
     },
     "execution_count": 17,
     "metadata": {},
     "output_type": "execute_result"
    }
   ],
   "source": [
    "tokenizer.decode(ids)"
   ]
  },
  {
   "cell_type": "markdown",
   "id": "2f3fe21a-9c6a-4e98-a05e-fcd34f9b4523",
   "metadata": {},
   "source": [
    "La sortie est la même que l'entrée. Les espaces sont aussi encodée."
   ]
  },
  {
   "cell_type": "markdown",
   "id": "29e5034a-95ed-46d8-9972-589354dc9fd4",
   "metadata": {},
   "source": [
    "---\n",
    "\n",
    "# Exercise 2.2"
   ]
  },
  {
   "cell_type": "markdown",
   "id": "fde21e07",
   "metadata": {},
   "source": [
    "**Exercise: Exploring Data Loader Behavior with Different Parameters**\n",
    "\n",
    "Certainly! Here's the exercise rewritten in the same structured style as the first one, ensuring clarity and consistency:\n",
    "\n",
    "---\n",
    "\n",
    "**Exercise: Exploring Data Loader Behavior with Different Parameter Configurations**\n",
    "\n",
    "In this exercise, you will investigate how the parameters of a data loader—such as `max_length`, `stride`, and `batch_size`—affect the preparation of input-output pairs for training large language models (LLMs). By experimenting with these settings, you will gain a practical understanding of their impact on the data batching process and their implications for model training.\n",
    "\n",
    "### Objective\n",
    "You will:\n",
    "1. Observe how the data loader generates input-output pairs with different configurations of `max_length` and `stride`.\n",
    "2. Analyze how increasing the batch size changes the structure of the data and discuss the tradeoffs involved.\n",
    "3. Experiment with a batch size greater than 1 to understand how it impacts memory usage and input-output organization.\n",
    "\n",
    "---\n",
    "\n",
    "### Theoretical Background\n",
    "\n",
    "A data loader processes raw text data into smaller sequences suitable for training LLMs. Key parameters that influence its behavior are:\n",
    "\n",
    "1. **`max_length`**: Specifies the maximum sequence length for each input-output pair. Shorter sequences may simplify computation but can limit the context available to the model.\n",
    "   \n",
    "2. **`stride`**: Determines the step size for sliding the window over the text when creating sequences. A smaller stride increases overlap between sequences, leading to more redundancy. A larger stride reduces overlap, ensuring more unique coverage of the dataset.\n",
    "\n",
    "3. **`batch_size`**: Controls the number of sequences in a batch:\n",
    "   - **Small batches** (e.g., `batch_size=1`) are easier to process and require less memory. However, they can produce noisier gradient updates during training.\n",
    "   - **Larger batches** improve gradient stability but require more memory and computational power. This parameter is an important hyperparameter to tune during training.\n",
    "\n",
    "These parameters are central to efficient and effective preprocessing of data for training deep learning models.\n",
    "\n",
    "---\n",
    "\n",
    "### Task Steps\n",
    "\n",
    "1. **Experimenting with `max_length` and `stride`**:\n",
    "   - Run the data loader with two configurations:\n",
    "     - `max_length=2` and `stride=2`\n",
    "     - `max_length=8` and `stride=2`\n",
    "   - Observe the structure of the input-output pairs for each configuration and note how they differ.\n",
    "\n",
    "2. **Increasing Batch Size**:\n",
    "   - Experiment with a batch size of 8 using the following configuration:\n",
    "     ```python\n",
    "     dataloader = create_dataloader_v1(\n",
    "         raw_text, batch_size=8, max_length=4, stride=4,\n",
    "         shuffle=False\n",
    "     )\n",
    "     data_iter = iter(dataloader)\n",
    "     inputs, targets = next(data_iter)\n",
    "     print(\"Inputs:\\n\", inputs)\n",
    "     print(\"\\nTargets:\\n\", targets)\n",
    "     ```\n",
    "   - Examine the resulting `inputs` and `targets`. Consider how the data is structured when `batch_size` is increased compared to a batch size of 1.\n",
    "\n",
    "3. **Avoiding Overlap**:\n",
    "   - Analyze the effect of a `stride=4` setting. Note that this value ensures no overlap between sequences within a batch, minimizing redundancy and reducing the risk of overfitting.\n",
    "\n",
    "---\n",
    "\n",
    "### Questions - Exercise 2.2\n",
    "\n",
    "1. How do changes in `max_length` and `stride` affect the input-output mappings produced by the data loader?  \n",
    "2. What differences do you observe in the data when using a batch size of 8 compared to a batch size of 1?  \n",
    "3. How does using a larger stride (e.g., `stride=4`) influence the coverage of the dataset and the overlap between sequences?  \n",
    "\n",
    "---\n",
    "\n",
    "### Example Output\n",
    "\n",
    "Using the configuration:\n",
    "```python\n",
    "dataloader = create_dataloader_v1(\n",
    "    raw_text, batch_size=8, max_length=4, stride=4,\n",
    "    shuffle=False\n",
    ")\n",
    "data_iter = iter(dataloader)\n",
    "inputs, targets = next(data_iter)\n",
    "print(\"Inputs:\\n\", inputs)\n",
    "print(\"\\nTargets:\\n\", targets)\n",
    "```\n",
    "\n",
    "**Inputs**:\n",
    "```plaintext\n",
    "tensor([[   40,   367,  2885,  1464],\n",
    "        [ 1807,  3619,   402,   271],\n",
    "        [10899,  2138,   257,  7026],\n",
    "        [15632,   438,  2016,   257],\n",
    "        [  922,  5891,  1576,   438],\n",
    "        [  568,   340,   373,   645],\n",
    "        [ 1049,  5975,   284,   502],\n",
    "        [  284,  3285,   326,    11]])\n",
    "```\n",
    "\n",
    "**Targets**:\n",
    "```plaintext\n",
    "tensor([[  367,  2885,  1464,  1807],\n",
    "        [ 3619,   402,   271, 10899],\n",
    "        [ 2138,   257,  7026, 15632],\n",
    "        [  438,  2016,   257,   922],\n",
    "        [ 5891,  1576,   438,   568],\n",
    "        [  340,   373,   645,  1049],\n",
    "        [ 5975,   284,   502,   284],\n",
    "        [ 3285,   326,    11,   287]])\n",
    "```\n",
    "\n",
    "---\n",
    "\n",
    "### Expected Learning Outcomes\n",
    "\n",
    "By completing this exercise, you should:\n",
    "1. Understand how varying `max_length` and `stride` impacts the input-output pairs produced by the data loader.\n",
    "2. Appreciate the tradeoffs involved in choosing different batch sizes for training deep learning models.\n",
    "3. Gain insight into how stride settings can minimize redundancy and optimize dataset utilization."
   ]
  },
  {
   "cell_type": "code",
   "execution_count": 18,
   "id": "0cbf2b4b-6b90-44a6-bc15-aeb50cbe20a2",
   "metadata": {},
   "outputs": [],
   "source": [
    "# Importing Required Modules\n",
    "from torch.utils.data import Dataset, DataLoader\n",
    "\n",
    "# Defining the Custom Dataset Class\n",
    "class GPTDatasetV1(Dataset):\n",
    "    def __init__(self, txt, tokenizer, max_length, stride):\n",
    "        self.input_ids = []\n",
    "        self.target_ids = []\n",
    "\n",
    "        # Tokenize the entire text\n",
    "        token_ids = tokenizer.encode(txt, allowed_special={\"<|endoftext|>\"})\n",
    "\n",
    "        # Use a sliding window to chunk the book into overlapping sequences of max_length\n",
    "        for i in range(0, len(token_ids) - max_length, stride):\n",
    "            input_chunk = token_ids[i:i + max_length]\n",
    "            target_chunk = token_ids[i + 1: i + max_length + 1]\n",
    "            self.input_ids.append(torch.tensor(input_chunk))\n",
    "            self.target_ids.append(torch.tensor(target_chunk))\n",
    "\n",
    "    def __len__(self):\n",
    "        return len(self.input_ids)\n",
    "\n",
    "    def __getitem__(self, idx):\n",
    "        return self.input_ids[idx], self.target_ids[idx]"
   ]
  },
  {
   "cell_type": "code",
   "execution_count": 19,
   "id": "d3c422dc-9d81-4aca-86ef-969f2498f5f6",
   "metadata": {},
   "outputs": [],
   "source": [
    "# Creating the Data Loader Function\n",
    "def create_dataloader_v1(txt, batch_size=4, max_length=256, \n",
    "                         stride=128, shuffle=True, drop_last=True,\n",
    "                         num_workers=0):\n",
    "\n",
    "    # Initialize the tokenizer\n",
    "    tokenizer = tiktoken.get_encoding(\"gpt2\")\n",
    "\n",
    "    # Create dataset\n",
    "    dataset = GPTDatasetV1(txt, tokenizer, max_length, stride)\n",
    "\n",
    "    # Create dataloader\n",
    "    dataloader = DataLoader(\n",
    "        dataset,\n",
    "        batch_size=batch_size,\n",
    "        shuffle=shuffle,\n",
    "        drop_last=drop_last,\n",
    "        num_workers=num_workers\n",
    "    )\n",
    "\n",
    "    return dataloader"
   ]
  },
  {
   "cell_type": "code",
   "execution_count": 21,
   "id": "6aa7e983-7323-43f5-82b3-0c5a219d0e11",
   "metadata": {},
   "outputs": [],
   "source": [
    "with open(\"the-verdict.txt\", \"r\", encoding=\"utf-8\") as f:\n",
    "    txt = f.read()"
   ]
  },
  {
   "cell_type": "code",
   "execution_count": 25,
   "id": "f513e061-c477-43b5-aa0a-c3159609310f",
   "metadata": {},
   "outputs": [
    {
     "name": "stdout",
     "output_type": "stream",
     "text": [
      "Inputs:\n",
      " tensor([[ 40, 367]])\n",
      "\n",
      "Targets:\n",
      " tensor([[ 367, 2885]])\n"
     ]
    }
   ],
   "source": [
    "dataloader = create_dataloader_v1(\n",
    "    txt, batch_size=1, max_length=2, stride=2,\n",
    "    shuffle=False\n",
    ")\n",
    "data_iter = iter(dataloader)\n",
    "inputs, targets = next(data_iter)\n",
    "print(\"Inputs:\\n\", inputs)\n",
    "print(\"\\nTargets:\\n\", targets)"
   ]
  },
  {
   "cell_type": "code",
   "execution_count": 26,
   "id": "221ff7c5-e375-4b88-bbe5-d968a4a50182",
   "metadata": {},
   "outputs": [
    {
     "name": "stdout",
     "output_type": "stream",
     "text": [
      "Inputs:\n",
      " tensor([[  40,  367, 2885, 1464, 1807, 3619,  402,  271]])\n",
      "\n",
      "Targets:\n",
      " tensor([[  367,  2885,  1464,  1807,  3619,   402,   271, 10899]])\n"
     ]
    }
   ],
   "source": [
    "dataloader = create_dataloader_v1(\n",
    "    txt, batch_size=1, max_length=8, stride=2,\n",
    "    shuffle=False\n",
    ")\n",
    "data_iter = iter(dataloader)\n",
    "inputs, targets = next(data_iter)\n",
    "print(\"Inputs:\\n\", inputs)\n",
    "print(\"\\nTargets:\\n\", targets)"
   ]
  },
  {
   "cell_type": "code",
   "execution_count": 27,
   "id": "cc55f937-72e8-4398-b684-2f8e290cbb13",
   "metadata": {},
   "outputs": [
    {
     "name": "stdout",
     "output_type": "stream",
     "text": [
      "Inputs:\n",
      " tensor([[   40,   367,  2885,  1464,  1807,  3619,   402,   271],\n",
      "        [ 2885,  1464,  1807,  3619,   402,   271, 10899,  2138],\n",
      "        [ 1807,  3619,   402,   271, 10899,  2138,   257,  7026],\n",
      "        [  402,   271, 10899,  2138,   257,  7026, 15632,   438],\n",
      "        [10899,  2138,   257,  7026, 15632,   438,  2016,   257],\n",
      "        [  257,  7026, 15632,   438,  2016,   257,   922,  5891],\n",
      "        [15632,   438,  2016,   257,   922,  5891,  1576,   438],\n",
      "        [ 2016,   257,   922,  5891,  1576,   438,   568,   340]])\n",
      "\n",
      "Targets:\n",
      " tensor([[  367,  2885,  1464,  1807,  3619,   402,   271, 10899],\n",
      "        [ 1464,  1807,  3619,   402,   271, 10899,  2138,   257],\n",
      "        [ 3619,   402,   271, 10899,  2138,   257,  7026, 15632],\n",
      "        [  271, 10899,  2138,   257,  7026, 15632,   438,  2016],\n",
      "        [ 2138,   257,  7026, 15632,   438,  2016,   257,   922],\n",
      "        [ 7026, 15632,   438,  2016,   257,   922,  5891,  1576],\n",
      "        [  438,  2016,   257,   922,  5891,  1576,   438,   568],\n",
      "        [  257,   922,  5891,  1576,   438,   568,   340,   373]])\n"
     ]
    }
   ],
   "source": [
    "dataloader = create_dataloader_v1(\n",
    "    txt, batch_size=8, max_length=8, stride=2,\n",
    "    shuffle=False\n",
    ")\n",
    "data_iter = iter(dataloader)\n",
    "inputs, targets = next(data_iter)\n",
    "print(\"Inputs:\\n\", inputs)\n",
    "print(\"\\nTargets:\\n\", targets)"
   ]
  },
  {
   "cell_type": "code",
   "execution_count": 28,
   "id": "5b7e0494-35b7-4ca2-ad21-f4f361f8d666",
   "metadata": {},
   "outputs": [
    {
     "name": "stdout",
     "output_type": "stream",
     "text": [
      "Inputs:\n",
      " tensor([[   40,   367,  2885,  1464,  1807,  3619,   402,   271],\n",
      "        [ 1807,  3619,   402,   271, 10899,  2138,   257,  7026],\n",
      "        [10899,  2138,   257,  7026, 15632,   438,  2016,   257],\n",
      "        [15632,   438,  2016,   257,   922,  5891,  1576,   438],\n",
      "        [  922,  5891,  1576,   438,   568,   340,   373,   645],\n",
      "        [  568,   340,   373,   645,  1049,  5975,   284,   502],\n",
      "        [ 1049,  5975,   284,   502,   284,  3285,   326,    11],\n",
      "        [  284,  3285,   326,    11,   287,   262,  6001,   286]])\n",
      "\n",
      "Targets:\n",
      " tensor([[  367,  2885,  1464,  1807,  3619,   402,   271, 10899],\n",
      "        [ 3619,   402,   271, 10899,  2138,   257,  7026, 15632],\n",
      "        [ 2138,   257,  7026, 15632,   438,  2016,   257,   922],\n",
      "        [  438,  2016,   257,   922,  5891,  1576,   438,   568],\n",
      "        [ 5891,  1576,   438,   568,   340,   373,   645,  1049],\n",
      "        [  340,   373,   645,  1049,  5975,   284,   502,   284],\n",
      "        [ 5975,   284,   502,   284,  3285,   326,    11,   287],\n",
      "        [ 3285,   326,    11,   287,   262,  6001,   286,   465]])\n"
     ]
    }
   ],
   "source": [
    "dataloader = create_dataloader_v1(\n",
    "    txt, batch_size=8, max_length=8, stride=4,\n",
    "    shuffle=False\n",
    ")\n",
    "data_iter = iter(dataloader)\n",
    "inputs, targets = next(data_iter)\n",
    "print(\"Inputs:\\n\", inputs)\n",
    "print(\"\\nTargets:\\n\", targets)"
   ]
  },
  {
   "cell_type": "code",
   "execution_count": null,
   "id": "2fba61e9-0d57-4898-8ee7-3dc20cb6caad",
   "metadata": {},
   "outputs": [],
   "source": []
  }
 ],
 "metadata": {
  "kernelspec": {
   "display_name": "Python 3 (ipykernel)",
   "language": "python",
   "name": "python3"
  },
  "language_info": {
   "codemirror_mode": {
    "name": "ipython",
    "version": 3
   },
   "file_extension": ".py",
   "mimetype": "text/x-python",
   "name": "python",
   "nbconvert_exporter": "python",
   "pygments_lexer": "ipython3",
   "version": "3.11.7"
  }
 },
 "nbformat": 4,
 "nbformat_minor": 5
}
