{
 "cells": [
  {
   "cell_type": "markdown",
   "id": "d2a7aa70",
   "metadata": {},
   "source": [
    "# Chapter 3 - Exercises\n",
    "\n",
    "> Author : Badr TAJINI - Large Language model (LLMs) - ESIEE 2024-2025\n",
    "\n",
    "---"
   ]
  },
  {
   "cell_type": "markdown",
   "id": "33dfa199-9aee-41d4-a64b-7e3811b9a616",
   "metadata": {},
   "source": [
    "# Exercise 3.1"
   ]
  },
  {
   "cell_type": "markdown",
   "id": "5fee2cf5-61c3-4167-81b5-44ea155bbaf2",
   "metadata": {},
   "source": [
    "Observe that the `nn.Linear` layer in `SelfAttention_v2` employs a distinct weight initialization strategy compared to the `nn.Parameter(torch.rand(d_in, d_out))` method utilized in `SelfAttention_v1`, resulting in divergent computational outputs. To validate the fundamental structural similarities between the two implementations, we propose a weight transfer methodology that will demonstrate the potential for convergence between `SelfAttention_v1` and `SelfAttention_v2`.\n",
    "\n",
    "**Key Exercise Question: Can you transfer the weights from `SelfAttention_v2` to `SelfAttention_v1` such that both implementations produce identical output tensors?**\n",
    "\n",
    "*Specific Challenges:*\n",
    "- Recognize that `nn.Linear` stores its weight matrix in a transposed configuration\n",
    "- Carefully map and transfer weights between the two self-attention implementations\n",
    "- Verify that the transferred weights result in mathematically equivalent computational results\n",
    "\n",
    "The primary objective is to systematically transfer weight matrices from an instantiated `SelfAttention_v2` object to a `SelfAttention_v1` instance, requiring a nuanced understanding of the underlying weight matrix representation.\n",
    "\n",
    "Subsequent research focuses on advancing the self-attention mechanism through two critical architectural enhancements:\n",
    "\n",
    "1. **Causal Masking**: This modification introduces a constraint preventing the attention mechanism from accessing future sequence elements. Such a constraint is particularly pivotal in generative language modeling contexts, where each token's prediction must be conditioned exclusively on preceding contextual information.\n",
    "\n",
    "2. **Multi-Head Attention**: This approach involves partitioning the attention mechanism into parallel computational \"heads.\" Each head operates as a distinct learnable feature extractor, capable of capturing diverse representational characteristics across different subspaces and positional contexts. By enabling simultaneous multi-perspective representation learning, this technique substantially augments the model's capacity to process complex, high-dimensional representations.\n",
    "\n",
    "These architectural refinements collectively contribute to more sophisticated and contextually aware neural network architectures, particularly in sequence modeling domains."
   ]
  },
  {
   "cell_type": "code",
   "execution_count": 34,
   "id": "56ca8ef4-4f66-4439-9f75-552806e1e2c1",
   "metadata": {},
   "outputs": [],
   "source": [
    "import torch.nn as nn\n",
    "import torch"
   ]
  },
  {
   "cell_type": "code",
   "execution_count": 18,
   "id": "00fb39bf-a696-4e0e-9c38-67a28d35a4e0",
   "metadata": {},
   "outputs": [],
   "source": [
    "class SelfAttention_v1(nn.Module):\n",
    "\n",
    "    def __init__(self, d_in, d_out):\n",
    "        super().__init__()\n",
    "        self.W_query = nn.Parameter(torch.rand(d_in, d_out))\n",
    "        self.W_key   = nn.Parameter(torch.rand(d_in, d_out))\n",
    "        self.W_value = nn.Parameter(torch.rand(d_in, d_out))\n",
    "\n",
    "    def forward(self, x):\n",
    "        keys = x @ self.W_key\n",
    "        queries = x @ self.W_query\n",
    "        values = x @ self.W_value\n",
    "        \n",
    "        attn_scores = queries @ keys.T # omega\n",
    "        attn_weights = torch.softmax(\n",
    "            attn_scores / keys.shape[-1]**0.5, dim=-1\n",
    "        )\n",
    "\n",
    "        context_vec = attn_weights @ values\n",
    "        return context_vec"
   ]
  },
  {
   "cell_type": "code",
   "execution_count": 20,
   "id": "8a78d3b6-2901-4ab3-8738-1c8a55ebc99a",
   "metadata": {},
   "outputs": [],
   "source": [
    "class SelfAttention_v2(nn.Module):\n",
    "\n",
    "    def __init__(self, d_in, d_out, qkv_bias=False):\n",
    "        super().__init__()\n",
    "        self.W_query = nn.Linear(d_in, d_out, bias=qkv_bias)\n",
    "        self.W_key   = nn.Linear(d_in, d_out, bias=qkv_bias)\n",
    "        self.W_value = nn.Linear(d_in, d_out, bias=qkv_bias)\n",
    "\n",
    "    def forward(self, x):\n",
    "        keys = self.W_key(x)\n",
    "        queries = self.W_query(x)\n",
    "        values = self.W_value(x)\n",
    "        \n",
    "        attn_scores = queries @ keys.T\n",
    "        attn_weights = torch.softmax(attn_scores / keys.shape[-1]**0.5, dim=-1)\n",
    "\n",
    "        context_vec = attn_weights @ values\n",
    "        return context_vec"
   ]
  },
  {
   "cell_type": "code",
   "execution_count": 44,
   "id": "4517fa2e-f54a-4c5d-965a-53ec3842c915",
   "metadata": {},
   "outputs": [],
   "source": [
    "d_in, d_out = 4, 8\n",
    "x = torch.rand(5, d_in)\n",
    "\n",
    "v1 = SelfAttention_v1(d_in, d_out)\n",
    "v2 = SelfAttention_v2(d_in, d_out)"
   ]
  },
  {
   "cell_type": "code",
   "execution_count": 46,
   "id": "c980a2a3-6d0a-42d8-a771-ca849405404f",
   "metadata": {},
   "outputs": [
    {
     "data": {
      "text/plain": [
       "Parameter containing:\n",
       "tensor([[0.0685, 0.6606, 0.4592, 0.1848, 0.5046, 0.4392, 0.1914, 0.4091],\n",
       "        [0.0777, 0.8080, 0.9856, 0.6567, 0.9515, 0.8317, 0.0852, 0.8176],\n",
       "        [0.8297, 0.6035, 0.5858, 0.1195, 0.2602, 0.5640, 0.5136, 0.5549],\n",
       "        [0.7499, 0.0186, 0.5960, 0.7015, 0.3423, 0.1344, 0.2942, 0.5245]],\n",
       "       requires_grad=True)"
      ]
     },
     "execution_count": 46,
     "metadata": {},
     "output_type": "execute_result"
    }
   ],
   "source": [
    "v1.W_query"
   ]
  },
  {
   "cell_type": "code",
   "execution_count": 48,
   "id": "e9d548b3-26a9-408c-8c7d-96994ef9575f",
   "metadata": {},
   "outputs": [
    {
     "data": {
      "text/plain": [
       "Parameter containing:\n",
       "tensor([[-0.1911,  0.4821,  0.3072,  0.2805],\n",
       "        [-0.3136,  0.4807,  0.4617,  0.4485],\n",
       "        [ 0.2543, -0.0261, -0.2113,  0.3516],\n",
       "        [-0.0614, -0.0181, -0.4040,  0.1788],\n",
       "        [ 0.3506,  0.0157, -0.4754,  0.3092],\n",
       "        [-0.1775, -0.0442, -0.3498,  0.2022],\n",
       "        [-0.4878,  0.2346, -0.0882, -0.0358],\n",
       "        [ 0.0382,  0.4425,  0.2727, -0.3696]], requires_grad=True)"
      ]
     },
     "execution_count": 48,
     "metadata": {},
     "output_type": "execute_result"
    }
   ],
   "source": [
    "v2.W_query.weight"
   ]
  },
  {
   "cell_type": "code",
   "execution_count": 50,
   "id": "9dd10875-8e87-4a10-a117-12e266ca46bc",
   "metadata": {},
   "outputs": [
    {
     "name": "stdout",
     "output_type": "stream",
     "text": [
      "Output from SelfAttention_v1:\n",
      " tensor([[-0.1959,  0.1466, -0.0125, -0.1522,  0.1652,  0.0632, -0.4644, -0.2865],\n",
      "        [-0.1924,  0.1482, -0.0101, -0.1501,  0.1689,  0.0585, -0.4633, -0.2887],\n",
      "        [-0.1988,  0.1450, -0.0159, -0.1519,  0.1564,  0.0706, -0.4617, -0.2801],\n",
      "        [-0.1958,  0.1468, -0.0130, -0.1510,  0.1624,  0.0648, -0.4627, -0.2843],\n",
      "        [-0.1943,  0.1475, -0.0116, -0.1508,  0.1658,  0.0616, -0.4633, -0.2867]],\n",
      "       grad_fn=<MmBackward0>)\n",
      "Output from SelfAttention_v2:\n",
      " tensor([[-0.1959,  0.1466, -0.0125, -0.1522,  0.1652,  0.0632, -0.4644, -0.2865],\n",
      "        [-0.1924,  0.1482, -0.0101, -0.1501,  0.1689,  0.0585, -0.4633, -0.2887],\n",
      "        [-0.1988,  0.1450, -0.0159, -0.1519,  0.1564,  0.0706, -0.4617, -0.2801],\n",
      "        [-0.1958,  0.1468, -0.0130, -0.1510,  0.1624,  0.0648, -0.4627, -0.2843],\n",
      "        [-0.1943,  0.1475, -0.0116, -0.1508,  0.1658,  0.0616, -0.4633, -0.2867]],\n",
      "       grad_fn=<MmBackward0>)\n",
      "Are outputs identical?  True\n"
     ]
    }
   ],
   "source": [
    "with torch.no_grad():\n",
    "    # Transpose and assign weights\n",
    "    v1.W_query.copy_(v2.W_query.weight.T)\n",
    "    v1.W_key.copy_(v2.W_key.weight.T)\n",
    "    v1.W_value.copy_(v2.W_value.weight.T)\n",
    "\n",
    "output_v1 = v1(x)\n",
    "output_v2 = v2(x)\n",
    "\n",
    "print(\"Output from SelfAttention_v1:\\n\", output_v1)\n",
    "print(\"Output from SelfAttention_v2:\\n\", output_v2)\n",
    "print(\"Are outputs identical? \", torch.allclose(output_v1, output_v2, atol=1e-6))\n"
   ]
  },
  {
   "cell_type": "code",
   "execution_count": null,
   "id": "6f7e04d8-7cc3-475e-b076-9ebe4f2e652e",
   "metadata": {},
   "outputs": [],
   "source": []
  },
  {
   "cell_type": "markdown",
   "id": "33543edb-46b5-4b01-8704-f7f101230544",
   "metadata": {},
   "source": [
    "# Exercise 3.2"
   ]
  },
  {
   "cell_type": "markdown",
   "id": "18e748ef-3106-4e11-a781-b230b74a0cef",
   "metadata": {},
   "source": [
    "**Key Exercise Question: How can you modify the input arguments to the `MultiHeadAttentionWrapper(num_heads=2)` to transform the output context vectors from four-dimensional to two-dimensional while maintaining the `num_heads=2` configuration?**\n",
    "\n",
    "*Specific Challenges:*\n",
    "- Identify the input parameter that controls the dimensionality of output context vectors\n",
    "- Understand the relationship between input arguments and tensor shape\n",
    "- Achieve dimensionality reduction without modifying the core `MultiHeadAttentionWrapper` class implementation\n",
    "\n",
    "*Architectural Context:*\n",
    "Up to this point, we have developed a `MultiHeadAttentionWrapper` that integrates multiple single-head attention modules through sequential processing, implemented via the comprehension `[head(x) for head in self.heads]` in the forward method. This current implementation represents a foundational approach to multi-head attention mechanisms.\n",
    "\n",
    "*Potential Optimization Strategies:*\n",
    "1. **Sequential Processing Limitation**: The current implementation processes attention heads sequentially, which may introduce computational inefficiencies.\n",
    "\n",
    "2. **Parallel Processing Approach**: An advanced optimization involves simultaneous computation of attention head outputs through efficient matrix multiplication techniques. This parallel processing strategy can potentially enhance computational performance and reduce computational overhead.\n",
    "\n",
    "*Theoretical Implications:*\n",
    "The ability to dynamically adjust output dimensionality while maintaining the multi-head attention structure highlights the flexibility of modern neural network architectural designs. Such manipulations are crucial in adapting attention mechanisms to diverse computational requirements across different machine learning domains.\n",
    "\n",
    "*Practical Recommendation:*\n",
    "Carefully examine the input arguments of the `MultiHeadAttentionWrapper` and consider how specific parameters might influence the output tensor's dimensionality. The solution likely involves a subtle adjustment that does not require restructuring the core implementation."
   ]
  },
  {
   "cell_type": "code",
   "execution_count": 63,
   "id": "82d6ff3a-64df-4de0-8d0d-9096d38e0929",
   "metadata": {},
   "outputs": [],
   "source": [
    "class CausalAttention(nn.Module):\n",
    "\n",
    "    def __init__(self, d_in, d_out, context_length,\n",
    "                 dropout, qkv_bias=False):\n",
    "        super().__init__()\n",
    "        self.d_out = d_out\n",
    "        self.W_query = nn.Linear(d_in, d_out, bias=qkv_bias)\n",
    "        self.W_key   = nn.Linear(d_in, d_out, bias=qkv_bias)\n",
    "        self.W_value = nn.Linear(d_in, d_out, bias=qkv_bias)\n",
    "        self.dropout = nn.Dropout(dropout) # New\n",
    "        self.register_buffer('mask', torch.triu(torch.ones(context_length, context_length), diagonal=1)) # New\n",
    "\n",
    "    def forward(self, x):\n",
    "        b, num_tokens, d_in = x.shape # New batch dimension b\n",
    "        keys = self.W_key(x)\n",
    "        queries = self.W_query(x)\n",
    "        values = self.W_value(x)\n",
    "\n",
    "        attn_scores = queries @ keys.transpose(1, 2) # Changed transpose\n",
    "        attn_scores.masked_fill_(  # New, _ ops are in-place\n",
    "            self.mask.bool()[:num_tokens, :num_tokens], -torch.inf)  # `:num_tokens` to account for cases where the number of tokens in the batch is smaller than the supported context_size\n",
    "        attn_weights = torch.softmax(\n",
    "            attn_scores / keys.shape[-1]**0.5, dim=-1\n",
    "        )\n",
    "        attn_weights = self.dropout(attn_weights) # New\n",
    "\n",
    "        context_vec = attn_weights @ values\n",
    "        return context_vec"
   ]
  },
  {
   "cell_type": "code",
   "execution_count": 65,
   "id": "4dafe7ad-bd51-415a-bedb-8e0afb847c70",
   "metadata": {},
   "outputs": [],
   "source": [
    "class MultiHeadAttentionWrapper(nn.Module):\n",
    "\n",
    "    def __init__(self, d_in, d_out, context_length, dropout, num_heads, qkv_bias=False):\n",
    "        super().__init__()\n",
    "        self.heads = nn.ModuleList(\n",
    "            [CausalAttention(d_in, d_out, context_length, dropout, qkv_bias) \n",
    "             for _ in range(num_heads)]\n",
    "        )\n",
    "\n",
    "    def forward(self, x):\n",
    "        return torch.cat([head(x) for head in self.heads], dim=-1)"
   ]
  },
  {
   "cell_type": "code",
   "execution_count": 90,
   "id": "1b909de2-9c44-4964-9af3-f162b53dfa67",
   "metadata": {},
   "outputs": [],
   "source": [
    "d_in, d_out = 3, 1\n",
    "context_length = 6\n",
    "x = torch.rand(1, context_length, d_in)"
   ]
  },
  {
   "cell_type": "code",
   "execution_count": 92,
   "id": "9e342383-de73-45a0-9d1c-a9ac7e283d94",
   "metadata": {},
   "outputs": [
    {
     "data": {
      "text/plain": [
       "tensor([[[0.9153, 0.7751, 0.6749],\n",
       "         [0.1166, 0.8858, 0.6568],\n",
       "         [0.8459, 0.3033, 0.6060],\n",
       "         [0.9882, 0.8363, 0.9010],\n",
       "         [0.3950, 0.8809, 0.1084],\n",
       "         [0.5432, 0.2185, 0.3834]]])"
      ]
     },
     "execution_count": 92,
     "metadata": {},
     "output_type": "execute_result"
    }
   ],
   "source": [
    "x"
   ]
  },
  {
   "cell_type": "code",
   "execution_count": 103,
   "id": "b18d308d-b4b4-485b-9644-c72154d1023e",
   "metadata": {},
   "outputs": [
    {
     "name": "stdout",
     "output_type": "stream",
     "text": [
      "tensor([[[0.2575, 0.0361],\n",
      "         [0.1946, 0.0328],\n",
      "         [0.1508, 0.0100],\n",
      "         [0.1602, 0.0085],\n",
      "         [0.2221, 0.0366],\n",
      "         [0.1916, 0.0276]]], grad_fn=<CatBackward0>)\n",
      "context_vecs.shape: torch.Size([1, 6, 2])\n"
     ]
    }
   ],
   "source": [
    "mha = MultiHeadAttentionWrapper(\n",
    "    d_in, d_out, context_length, 0.0, num_heads=2\n",
    ")\n",
    "\n",
    "context_vecs = mha(x)\n",
    "\n",
    "print(context_vecs)\n",
    "print(\"context_vecs.shape:\", context_vecs.shape)"
   ]
  },
  {
   "cell_type": "code",
   "execution_count": null,
   "id": "69a0801d-2b58-4f0a-b575-3c0f20e2425b",
   "metadata": {},
   "outputs": [],
   "source": []
  },
  {
   "cell_type": "markdown",
   "id": "92bdabcb-06cf-4576-b810-d883bbd313ba",
   "metadata": {},
   "source": [
    "# Exercise 3.3"
   ]
  },
  {
   "cell_type": "markdown",
   "id": "78fdab01",
   "metadata": {
    "vscode": {
     "languageId": "plaintext"
    }
   },
   "source": [
    "**Key Exercise Question: Can you configure a `MultiHeadAttention` module that precisely replicates the architectural specifications of the smallest GPT-2 model?**\n",
    "\n",
    "*Specific Model Specifications:*\n",
    "- Number of Attention Heads: 12\n",
    "- Input/Output Embedding Dimensions: 768\n",
    "- Context Length: 1,024 tokens\n",
    "\n",
    "*Architectural Parameters:*\n",
    "- `num_heads`: 12\n",
    "- `d_model`: 768\n",
    "- `context_length`: 1,024\n",
    "\n",
    "*Theoretical Considerations:*\n",
    "The proposed configuration mirrors the smallest variant of the GPT-2 model, which represents a fundamental architecture in transformer-based language models. By precisely replicating these specifications, we can explore the intricate design choices that contribute to the model's effectiveness in natural language processing tasks.\n",
    "\n",
    "*Key Implementation Details:*\n",
    "- Ensuring 12 parallel attention heads allows for multi-perspective feature representation\n",
    "- The 768-dimensional embedding space provides a rich, high-dimensional representation of linguistic context\n",
    "- The 1,024 token context length enables comprehensive sequence processing\n",
    "\n",
    "*Practical Recommendation:*\n",
    "Carefully construct the `MultiHeadAttention` initialization to match these exact specifications, paying close attention to the dimensionality and number of heads to accurately reproduce the smallest GPT-2 model's architectural characteristics."
   ]
  },
  {
   "cell_type": "code",
   "execution_count": 106,
   "id": "08a50b2f-dbe4-4b93-9ea9-523eaec34543",
   "metadata": {},
   "outputs": [],
   "source": [
    "class MultiHeadAttention(nn.Module):\n",
    "    def __init__(self, d_in, d_out, context_length, dropout, num_heads, qkv_bias=False):\n",
    "        super().__init__()\n",
    "        assert (d_out % num_heads == 0), \\\n",
    "            \"d_out must be divisible by num_heads\"\n",
    "\n",
    "        self.d_out = d_out\n",
    "        self.num_heads = num_heads\n",
    "        self.head_dim = d_out // num_heads # Reduce the projection dim to match desired output dim\n",
    "\n",
    "        self.W_query = nn.Linear(d_in, d_out, bias=qkv_bias)\n",
    "        self.W_key = nn.Linear(d_in, d_out, bias=qkv_bias)\n",
    "        self.W_value = nn.Linear(d_in, d_out, bias=qkv_bias)\n",
    "        self.out_proj = nn.Linear(d_out, d_out)  # Linear layer to combine head outputs\n",
    "        self.dropout = nn.Dropout(dropout)\n",
    "        self.register_buffer(\n",
    "            \"mask\",\n",
    "            torch.triu(torch.ones(context_length, context_length),\n",
    "                       diagonal=1)\n",
    "        )\n",
    "\n",
    "    def forward(self, x):\n",
    "        b, num_tokens, d_in = x.shape\n",
    "\n",
    "        keys = self.W_key(x) # Shape: (b, num_tokens, d_out)\n",
    "        queries = self.W_query(x)\n",
    "        values = self.W_value(x)\n",
    "\n",
    "        # We implicitly split the matrix by adding a `num_heads` dimension\n",
    "        # Unroll last dim: (b, num_tokens, d_out) -> (b, num_tokens, num_heads, head_dim)\n",
    "        keys = keys.view(b, num_tokens, self.num_heads, self.head_dim) \n",
    "        values = values.view(b, num_tokens, self.num_heads, self.head_dim)\n",
    "        queries = queries.view(b, num_tokens, self.num_heads, self.head_dim)\n",
    "\n",
    "        # Transpose: (b, num_tokens, num_heads, head_dim) -> (b, num_heads, num_tokens, head_dim)\n",
    "        keys = keys.transpose(1, 2)\n",
    "        queries = queries.transpose(1, 2)\n",
    "        values = values.transpose(1, 2)\n",
    "\n",
    "        # Compute scaled dot-product attention (aka self-attention) with a causal mask\n",
    "        attn_scores = queries @ keys.transpose(2, 3)  # Dot product for each head\n",
    "\n",
    "        # Original mask truncated to the number of tokens and converted to boolean\n",
    "        mask_bool = self.mask.bool()[:num_tokens, :num_tokens]\n",
    "\n",
    "        # Use the mask to fill attention scores\n",
    "        attn_scores.masked_fill_(mask_bool, -torch.inf)\n",
    "        \n",
    "        attn_weights = torch.softmax(attn_scores / keys.shape[-1]**0.5, dim=-1)\n",
    "        attn_weights = self.dropout(attn_weights)\n",
    "\n",
    "        # Shape: (b, num_tokens, num_heads, head_dim)\n",
    "        context_vec = (attn_weights @ values).transpose(1, 2) \n",
    "        \n",
    "        # Combine heads, where self.d_out = self.num_heads * self.head_dim\n",
    "        context_vec = context_vec.contiguous().view(b, num_tokens, self.d_out)\n",
    "        context_vec = self.out_proj(context_vec) # optional projection\n",
    "\n",
    "        return context_vec"
   ]
  },
  {
   "cell_type": "code",
   "execution_count": 113,
   "id": "09ea1762-70bd-4a71-8a84-4903e0d89b53",
   "metadata": {},
   "outputs": [],
   "source": [
    "d_in, d_out = 768, 768\n",
    "context_length = 1024\n",
    "x = torch.rand(8, context_length//8, d_in)"
   ]
  },
  {
   "cell_type": "code",
   "execution_count": 121,
   "id": "3bdf01ba-cc70-4cfa-b804-5b8714a374f2",
   "metadata": {},
   "outputs": [
    {
     "name": "stdout",
     "output_type": "stream",
     "text": [
      "context_vecs.shape: torch.Size([8, 128, 768])\n"
     ]
    }
   ],
   "source": [
    "mha = MultiHeadAttention(d_in, d_out, context_length, 0.0, num_heads=12)\n",
    "\n",
    "context_vecs = mha(x)\n",
    "\n",
    "print(\"context_vecs.shape:\", context_vecs.shape)"
   ]
  },
  {
   "cell_type": "code",
   "execution_count": null,
   "id": "09f26aa8-ecc1-4171-80fe-134ce64c10db",
   "metadata": {},
   "outputs": [],
   "source": []
  },
  {
   "cell_type": "code",
   "execution_count": null,
   "id": "15fe5ef9-9987-44fd-a1a7-80d1ca6e06f2",
   "metadata": {},
   "outputs": [],
   "source": []
  }
 ],
 "metadata": {
  "kernelspec": {
   "display_name": "Python 3 (ipykernel)",
   "language": "python",
   "name": "python3"
  },
  "language_info": {
   "codemirror_mode": {
    "name": "ipython",
    "version": 3
   },
   "file_extension": ".py",
   "mimetype": "text/x-python",
   "name": "python",
   "nbconvert_exporter": "python",
   "pygments_lexer": "ipython3",
   "version": "3.11.7"
  }
 },
 "nbformat": 4,
 "nbformat_minor": 5
}
