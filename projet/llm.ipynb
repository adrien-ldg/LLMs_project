{
 "cells": [
  {
   "cell_type": "markdown",
   "metadata": {},
   "source": [
    "# Final Project: Building a daily life assistant with an Instruction-Fine-Tuned GPT-2\n",
    "\n",
    "> Adrien Lindeberg - Grégoire Ugollini - ESIEE 2024-2025\n",
    "\n",
    "---\n"
   ]
  },
  {
   "cell_type": "markdown",
   "metadata": {},
   "source": [
    "Dans ce projet, on eux fine-tuné le modèle GPT-2 préentraîné pour qu'il puisse répondre efficacement à des questions sur diverses maladies, leurs symptômes et leurs traitements. Grâce à un dataset contenant des informations médicales précises (comme sur le glaucoma), l'objectif est de spécialisé notre modèle dans le domaine de la santé."
   ]
  },
  {
   "cell_type": "markdown",
   "metadata": {},
   "source": [
    "Tout d'abord nous vérifions les versions de nos librairies pour voir si elles sont à jour."
   ]
  },
  {
   "cell_type": "code",
   "execution_count": 4,
   "metadata": {},
   "outputs": [
    {
     "name": "stdout",
     "output_type": "stream",
     "text": [
      "matplotlib version: 3.8.3\n",
      "pandas version: 2.2.1\n",
      "tiktoken version: 0.6.0\n",
      "torch version: 2.2.2\n",
      "tqdm version: 4.67.1\n",
      "tensorflow version: 2.16.1\n"
     ]
    }
   ],
   "source": [
    "from importlib.metadata import version\n",
    "\n",
    "pkgs = [\n",
    "    \"matplotlib\",\n",
    "    \"pandas\",\n",
    "    \"tiktoken\",\n",
    "    \"torch\",\n",
    "    \"tqdm\",\n",
    "    \"tensorflow\",\n",
    "]\n",
    "for p in pkgs:\n",
    "    print(f\"{p} version: {version(p)}\")"
   ]
  },
  {
   "cell_type": "markdown",
   "metadata": {},
   "source": [
    "## Transformation des données"
   ]
  },
  {
   "cell_type": "markdown",
   "metadata": {},
   "source": [
    "Avant de passer au fine-tuning nous devons mettre en forme nos données pour qu'elles soit simple à comprendre pour notre modèle."
   ]
  },
  {
   "cell_type": "markdown",
   "metadata": {},
   "source": [
    "Nous allons utiliser le alcapa-style format sur nos données qui est un format reconnu nous assurant une certainn efficacité."
   ]
  },
  {
   "cell_type": "markdown",
   "metadata": {},
   "source": [
    "Nous avons récupérer notre dataset sur le github public de nishantkushwaha-1999: https://github.com/nishantkushwaha-1999/llm_fine_tuning_optimization"
   ]
  },
  {
   "cell_type": "code",
   "execution_count": 5,
   "metadata": {},
   "outputs": [],
   "source": [
    "import pandas as pd\n",
    "\n",
    "dataset = pd.read_csv(\"dataset.csv\")\n"
   ]
  },
  {
   "cell_type": "code",
   "execution_count": 6,
   "metadata": {},
   "outputs": [
    {
     "data": {
      "text/html": [
       "<div>\n",
       "<style scoped>\n",
       "    .dataframe tbody tr th:only-of-type {\n",
       "        vertical-align: middle;\n",
       "    }\n",
       "\n",
       "    .dataframe tbody tr th {\n",
       "        vertical-align: top;\n",
       "    }\n",
       "\n",
       "    .dataframe thead th {\n",
       "        text-align: right;\n",
       "    }\n",
       "</style>\n",
       "<table border=\"1\" class=\"dataframe\">\n",
       "  <thead>\n",
       "    <tr style=\"text-align: right;\">\n",
       "      <th></th>\n",
       "      <th>question</th>\n",
       "      <th>answer</th>\n",
       "      <th>source</th>\n",
       "      <th>focus_area</th>\n",
       "    </tr>\n",
       "  </thead>\n",
       "  <tbody>\n",
       "    <tr>\n",
       "      <th>0</th>\n",
       "      <td>What is (are) Glaucoma ?</td>\n",
       "      <td>Glaucoma is a group of diseases that can damag...</td>\n",
       "      <td>NIHSeniorHealth</td>\n",
       "      <td>Glaucoma</td>\n",
       "    </tr>\n",
       "    <tr>\n",
       "      <th>1</th>\n",
       "      <td>What causes Glaucoma ?</td>\n",
       "      <td>Nearly 2.7 million people have glaucoma, a lea...</td>\n",
       "      <td>NIHSeniorHealth</td>\n",
       "      <td>Glaucoma</td>\n",
       "    </tr>\n",
       "    <tr>\n",
       "      <th>2</th>\n",
       "      <td>What are the symptoms of Glaucoma ?</td>\n",
       "      <td>Symptoms of Glaucoma  Glaucoma can develop in ...</td>\n",
       "      <td>NIHSeniorHealth</td>\n",
       "      <td>Glaucoma</td>\n",
       "    </tr>\n",
       "    <tr>\n",
       "      <th>3</th>\n",
       "      <td>What are the treatments for Glaucoma ?</td>\n",
       "      <td>Although open-angle glaucoma cannot be cured, ...</td>\n",
       "      <td>NIHSeniorHealth</td>\n",
       "      <td>Glaucoma</td>\n",
       "    </tr>\n",
       "    <tr>\n",
       "      <th>4</th>\n",
       "      <td>What is (are) Glaucoma ?</td>\n",
       "      <td>Glaucoma is a group of diseases that can damag...</td>\n",
       "      <td>NIHSeniorHealth</td>\n",
       "      <td>Glaucoma</td>\n",
       "    </tr>\n",
       "  </tbody>\n",
       "</table>\n",
       "</div>"
      ],
      "text/plain": [
       "                                 question  \\\n",
       "0                What is (are) Glaucoma ?   \n",
       "1                  What causes Glaucoma ?   \n",
       "2     What are the symptoms of Glaucoma ?   \n",
       "3  What are the treatments for Glaucoma ?   \n",
       "4                What is (are) Glaucoma ?   \n",
       "\n",
       "                                              answer           source  \\\n",
       "0  Glaucoma is a group of diseases that can damag...  NIHSeniorHealth   \n",
       "1  Nearly 2.7 million people have glaucoma, a lea...  NIHSeniorHealth   \n",
       "2  Symptoms of Glaucoma  Glaucoma can develop in ...  NIHSeniorHealth   \n",
       "3  Although open-angle glaucoma cannot be cured, ...  NIHSeniorHealth   \n",
       "4  Glaucoma is a group of diseases that can damag...  NIHSeniorHealth   \n",
       "\n",
       "  focus_area  \n",
       "0   Glaucoma  \n",
       "1   Glaucoma  \n",
       "2   Glaucoma  \n",
       "3   Glaucoma  \n",
       "4   Glaucoma  "
      ]
     },
     "execution_count": 6,
     "metadata": {},
     "output_type": "execute_result"
    }
   ],
   "source": [
    "dataset.head()"
   ]
  },
  {
   "cell_type": "markdown",
   "metadata": {},
   "source": [
    "Dans notre dataset les deux colonnes qui nous intéressent principalement sont question et answer."
   ]
  },
  {
   "cell_type": "code",
   "execution_count": 7,
   "metadata": {},
   "outputs": [
    {
     "data": {
      "text/plain": [
       "4000"
      ]
     },
     "execution_count": 7,
     "metadata": {},
     "output_type": "execute_result"
    }
   ],
   "source": [
    "len(dataset)"
   ]
  },
  {
   "cell_type": "markdown",
   "metadata": {},
   "source": [
    "Notre dataset compte 4000 échantillons ce qui représentr une bonne fourchette de données."
   ]
  },
  {
   "cell_type": "code",
   "execution_count": 5,
   "metadata": {},
   "outputs": [],
   "source": [
    "import pandas as pd\n",
    "import json\n",
    "\n",
    "def convert_to_alpaca_style(data: pd.DataFrame, output_file='json_instructions.json'):\n",
    "\n",
    "    if 'question' not in data.columns or 'answer' not in data.columns:\n",
    "        raise ValueError(\"Le DataFrame doit contenir les colonnes 'question' et 'answer'.\")\n",
    "\n",
    "    filtered_data = data.dropna(subset=['question', 'answer'])\n",
    "\n",
    "    json_instruct = [\n",
    "        {\n",
    "            \"instruction\": \"Provides a precise answer to the following question.\",\n",
    "            \"input\": row['question'],\n",
    "            \"output\": row['answer']\n",
    "        }\n",
    "        for _, row in filtered_data.iterrows()\n",
    "    ]\n",
    "\n",
    "    with open(output_file, 'w') as f:\n",
    "        json.dump(json_instruct, f, indent=4)\n",
    "\n",
    "    return json_instruct\n"
   ]
  },
  {
   "cell_type": "code",
   "execution_count": 6,
   "metadata": {},
   "outputs": [],
   "source": [
    "json_instructions = convert_to_alpaca_style(dataset)"
   ]
  },
  {
   "cell_type": "markdown",
   "metadata": {},
   "source": [
    "Nous convertissons ici nos données et supprimons les échantillons qui ont une valeur manquante dans une des deux colonnes question et answe et les conservont dans un fichier json."
   ]
  },
  {
   "cell_type": "code",
   "execution_count": 7,
   "metadata": {},
   "outputs": [
    {
     "data": {
      "text/plain": [
       "3998"
      ]
     },
     "execution_count": 7,
     "metadata": {},
     "output_type": "execute_result"
    }
   ],
   "source": [
    "len(json_instructions)"
   ]
  },
  {
   "cell_type": "code",
   "execution_count": 8,
   "metadata": {},
   "outputs": [
    {
     "data": {
      "text/plain": [
       "[{'instruction': 'Provides a precise answer to the following question.',\n",
       "  'input': 'What is (are) Glaucoma ?',\n",
       "  'output': \"Glaucoma is a group of diseases that can damage the eye's optic nerve and result in vision loss and blindness. While glaucoma can strike anyone, the risk is much greater for people over 60. How Glaucoma Develops  There are several different types of glaucoma. Most of these involve the drainage system within the eye. At the front of the eye there is a small space called the anterior chamber. A clear fluid flows through this chamber and bathes and nourishes the nearby tissues. (Watch the video to learn more about glaucoma. To enlarge the video, click the brackets in the lower right-hand corner. To reduce the video, press the Escape (Esc) button on your keyboard.) In glaucoma, for still unknown reasons, the fluid drains too slowly out of the eye. As the fluid builds up, the pressure inside the eye rises. Unless this pressure is controlled, it may cause damage to the optic nerve and other parts of the eye and result in loss of vision. Open-angle Glaucoma The most common type of glaucoma is called open-angle glaucoma. In the normal eye, the clear fluid leaves the anterior chamber at the open angle where the cornea and iris meet. When fluid reaches the angle, it flows through a spongy meshwork, like a drain, and leaves the eye. Sometimes, when the fluid reaches the angle, it passes too slowly through the meshwork drain, causing the pressure inside the eye to build. If the pressure damages the optic nerve, open-angle glaucoma -- and vision loss -- may result. There is no cure for glaucoma. Vision lost from the disease cannot be restored. However, there are treatments that may save remaining vision. That is why early diagnosis is important.  See this graphic for a quick overview of glaucoma,  including how many people it affects, whos at risk, what to do if you have it, and how to learn more.  See a glossary of glaucoma terms.\"},\n",
       " {'instruction': 'Provides a precise answer to the following question.',\n",
       "  'input': 'What causes Glaucoma ?',\n",
       "  'output': 'Nearly 2.7 million people have glaucoma, a leading cause of blindness in the United States. Although anyone can get glaucoma, some people are at higher risk. They include - African-Americans over age 40  - everyone over age 60, especially Hispanics/Latinos  - people with a family history of glaucoma. African-Americans over age 40 everyone over age 60, especially Hispanics/Latinos people with a family history of glaucoma.  In addition to age, eye pressure is a risk factor. Whether you develop glaucoma depends on the level of pressure your optic nerve can tolerate without being damaged. This level is different for each person. Thats why a comprehensive dilated eye exam is very important. It can help your eye care professional determine what level of eye pressure is normal for you. Another risk factor for optic nerve damage relates to blood pressure. Thus, it is important to also make sure that your blood pressure is at a proper level for your body by working with your medical doctor. (Watch the animated video to learn more about the causes of glaucoma. To enlarge the video, click the brackets in the lower right-hand corner. To reduce the video, press the Escape (Esc) button on your keyboard.)'},\n",
       " {'instruction': 'Provides a precise answer to the following question.',\n",
       "  'input': 'What are the symptoms of Glaucoma ?',\n",
       "  'output': 'Symptoms of Glaucoma  Glaucoma can develop in one or both eyes. The most common type of glaucoma, open-angle glaucoma, has no symptoms at first. It causes no pain, and vision seems normal. Without treatment, people with glaucoma will slowly lose their peripheral, or side vision. They seem to be looking through a tunnel. Over time, straight-ahead vision may decrease until no vision remains. Tests for Glaucoma Glaucoma is detected through a comprehensive eye exam that includes a visual acuity test, visual field test, dilated eye exam, tonometry, and pachymetry. (Watch the animated video to learn more about testing for glaucoma. To enlarge the video, click the brackets in the lower right-hand corner. To reduce the video, press the Escape (Esc) button on your keyboard.)  A visual acuity test uses an eye chart test to measure how well you see at various distances. A visual field test measures your side or peripheral vision. It helps your eye care professional tell if you have lost side vision, a sign of glaucoma. In a dilated eye exam, drops are placed in your eyes to widen, or dilate, the pupils. Your eye care professional uses a special magnifying lens to examine your retina and optic nerve for signs of damage and other eye problems. After the exam, your close-up vision may remain blurred for several hours. In tonometry, an instrument measures the pressure inside the eye. Numbing drops may be applied to your eye for this test. With pachymetry,  a numbing drop is applied to your eye. Your eye care professional uses an ultrasonic wave instrument to measure the thickness of your cornea.'},\n",
       " {'instruction': 'Provides a precise answer to the following question.',\n",
       "  'input': 'What are the treatments for Glaucoma ?',\n",
       "  'output': 'Although open-angle glaucoma cannot be cured, it can usually be controlled. While treatments may save remaining vision, they do not improve sight already lost from glaucoma. The most common treatments for glaucoma are medication and surgery. Medications  Medications for glaucoma may be either in the form of eye drops or pills. Some drugs reduce pressure by slowing the flow of fluid into the eye. Others help to improve fluid drainage. (Watch the video to learn more about coping with glaucoma. To enlarge the video, click the brackets in the lower right-hand corner. To reduce the video, press the Escape (Esc) button on your keyboard.) For most people with glaucoma, regular use of medications will control the increased fluid pressure. But, these drugs may stop working over time. Or, they may cause side effects. If a problem occurs, the eye care professional may select other drugs, change the dose, or suggest other ways to deal with the problem.  Read or listen to ways some patients are coping with glaucoma. Surgery Laser surgery is another treatment for glaucoma. During laser surgery, a strong beam of light is focused on the part of the anterior chamber where the fluid leaves the eye. This results in a series of small changes that makes it easier for fluid to exit the eye. Over time, the effect of laser surgery may wear off. Patients who have this form of surgery may need to keep taking glaucoma drugs. Researching Causes and Treatments Through studies in the laboratory and with patients, NEI is seeking better ways to detect, treat, and prevent vision loss in people with glaucoma. For example, researchers have discovered genes that could help explain how glaucoma damages the eye. NEI also is supporting studies to learn more about who is likely to get glaucoma, when to treat people who have increased eye pressure, and which treatment to use first.'},\n",
       " {'instruction': 'Provides a precise answer to the following question.',\n",
       "  'input': 'What is (are) Glaucoma ?',\n",
       "  'output': \"Glaucoma is a group of diseases that can damage the eye's optic nerve and result in vision loss and blindness. The most common form of the disease is open-angle glaucoma. With early treatment, you can often protect your eyes against serious vision loss. (Watch the video to learn more about glaucoma. To enlarge the video, click the brackets in the lower right-hand corner. To reduce the video, press the Escape (Esc) button on your keyboard.)  See this graphic for a quick overview of glaucoma, including how many people it affects, whos at risk, what to do if you have it, and how to learn more.  See a glossary of glaucoma terms.\"}]"
      ]
     },
     "execution_count": 8,
     "metadata": {},
     "output_type": "execute_result"
    }
   ],
   "source": [
    "json_instructions[:5]"
   ]
  },
  {
   "cell_type": "markdown",
   "metadata": {},
   "source": [
    "On peut voir nos données au format désiré."
   ]
  },
  {
   "cell_type": "markdown",
   "metadata": {},
   "source": [
    "## Formattage des données\n"
   ]
  },
  {
   "cell_type": "markdown",
   "metadata": {},
   "source": [
    "Maintenant que nous avons transformer nos données nous pouvons les convertire au format alpaca-style."
   ]
  },
  {
   "cell_type": "markdown",
   "metadata": {},
   "source": [
    "Donc nous récupérons nos données transformées dans le fichier json."
   ]
  },
  {
   "cell_type": "code",
   "execution_count": 9,
   "metadata": {},
   "outputs": [
    {
     "name": "stdout",
     "output_type": "stream",
     "text": [
      "Number of entries: 3998\n"
     ]
    }
   ],
   "source": [
    "import json\n",
    "import os\n",
    "import urllib\n",
    "\n",
    "\n",
    "def download_and_load_file(file_path, url):\n",
    "    if not os.path.exists(file_path):\n",
    "        with urllib.request.urlopen(url) as response:\n",
    "            text_data = response.read().decode(\"utf-8\")\n",
    "        with open(file_path, \"w\", encoding=\"utf-8\") as file:\n",
    "            file.write(text_data)\n",
    "    else:\n",
    "        with open(file_path, \"r\", encoding=\"utf-8\") as file:\n",
    "            text_data = file.read()\n",
    "\n",
    "    data = json.loads(text_data)\n",
    "    return data\n",
    "\n",
    "\n",
    "file_path = \"json_instructions.json\"\n",
    "url = \"\"\n",
    "\n",
    "data = download_and_load_file(file_path, url)\n",
    "print(\"Number of entries:\", len(data))"
   ]
  },
  {
   "cell_type": "code",
   "execution_count": 10,
   "metadata": {},
   "outputs": [
    {
     "data": {
      "text/plain": [
       "1100"
      ]
     },
     "execution_count": 10,
     "metadata": {},
     "output_type": "execute_result"
    }
   ],
   "source": [
    "data = data[:1100]\n",
    "len(data)"
   ]
  },
  {
   "cell_type": "markdown",
   "metadata": {},
   "source": [
    "Nous avons décidé de réduire à 1100 échantillons notre dataset pour réduire le  temps d'entrainement. Au complet, le temps d'entrainement duré plus d'une journée et on ne pouvait pas utilisé la version gratuite du GPU de google collab car le fine-tuning demandé trop de calculs."
   ]
  },
  {
   "cell_type": "code",
   "execution_count": 11,
   "metadata": {},
   "outputs": [
    {
     "name": "stdout",
     "output_type": "stream",
     "text": [
      "Example entry:\n",
      " {'instruction': 'Provides a precise answer to the following question.', 'input': 'How to prevent Urinary Tract Infections ?', 'output': 'Changing some of these daily habits may help prevent UTIs. - Wipe from front to back after using the toilet. Women should wipe from front to back to keep bacteria from getting into the urethra. This step is most important after a bowel movement.  Wipe from front to back after using the toilet. Women should wipe from front to back to keep bacteria from getting into the urethra. This step is most important after a bowel movement.  - Drink lots of fluid, especially water. Fluids can help flush bacteria from the urinary system. Water is best. Most healthy people should try to drink six to eight, 8-ounce glasses of fluid each day. (Some people need to drink less water because of certain conditions. For example, if you have kidney failure or heart disease, you should not drink this much fluid. Ask your health care provider how much fluid is healthy for you.)  Drink lots of fluid, especially water. Fluids can help flush bacteria from the urinary system. Water is best. Most healthy people should try to drink six to eight, 8-ounce glasses of fluid each day. (Some people need to drink less water because of certain conditions. For example, if you have kidney failure or heart disease, you should not drink this much fluid. Ask your health care provider how much fluid is healthy for you.)  - Urinate often and when the urge arises. Try to urinate at least every 3 to 4 hours. Bacteria are more likely to grow in the bladder when urine stays in the bladder too long.  Urinate often and when the urge arises. Try to urinate at least every 3 to 4 hours. Bacteria are more likely to grow in the bladder when urine stays in the bladder too long. - Urinate after sex. Both women and men should urinate shortly after sex to flush away bacteria that may have entered the urethra during sex.  Urinate after sex. Both women and men should urinate shortly after sex to flush away bacteria that may have entered the urethra during sex. - Wear cotton underwear and loose-fitting clothes. Wearing looser, cotton clothing will allow air to keep the area around the urethra dry. Tight-fitting jeans and nylon underwear should be avoided because they can trap moisture and help bacteria grow. Wear cotton underwear and loose-fitting clothes. Wearing looser, cotton clothing will allow air to keep the area around the urethra dry. Tight-fitting jeans and nylon underwear should be avoided because they can trap moisture and help bacteria grow. Drinking cranberry juice or taking cranberry supplements also may help prevent UTIs. Some studies have shown that cranberry products make UTIs less likely, especially in people who get UTIs often. But in other studies, cranberry products did not help.'}\n"
     ]
    }
   ],
   "source": [
    "print(\"Example entry:\\n\", data[50])"
   ]
  },
  {
   "cell_type": "code",
   "execution_count": 12,
   "metadata": {},
   "outputs": [
    {
     "name": "stdout",
     "output_type": "stream",
     "text": [
      "Another example entry:\n",
      " {'instruction': 'Provides a precise answer to the following question.', 'input': 'what research (or clinical trials) is being done for Childhood Acute Myeloid Leukemia and Other Myeloid Malignancies ?', 'output': \"New types of treatment are being tested in clinical trials.\\n                    This summary section describes treatments that are being studied in clinical trials. It may not mention every new treatment being studied. Information about clinical trials is available from the NCI website.     Biologic therapy     Biologic therapy is a treatment that uses the patients immune system to fight cancer. Substances made by the body or made in a laboratory are used to boost, direct, or restore the bodys natural defenses against cancer. This type of cancer treatment is also called biotherapy or immunotherapy.     Natural killer (NK) cells are a type of biologic therapy. NK cells are white blood cells that can kill tumor cells. These may be taken from a donor and given to the patient by infusion to help kill leukemia cells.\\n                \\n                \\n                    Patients may want to think about taking part in a clinical trial.\\n                    For some patients, taking part in a clinical trial may be the best treatment choice. Clinical trials are part of the cancer research process. Clinical trials are done to find out if new cancer treatments are safe and effective or better than the standard treatment.   Many of today's standard treatments for cancer are based on earlier clinical trials. Patients who take part in a clinical trial may receive the standard treatment or be among the first to receive a new treatment.   Patients who take part in clinical trials also help improve the way cancer will be treated in the future. Even when clinical trials do not lead to effective new treatments, they often answer important questions and help move research forward.\\n                \\n                \\n                    Patients can enter clinical trials before, during, or after starting their cancer treatment.\\n                    Some clinical trials only include patients who have not yet received treatment. Other trials test treatments for patients whose cancer has not gotten better. There are also clinical trials that test new ways to stop cancer from recurring (coming back) or reduce the side effects of cancer treatment.   Clinical trials are taking place in many parts of the country. See the Treatment Options section that follows for links to current treatment clinical trials. These have been retrieved from NCI's listing of clinical trials.\"}\n"
     ]
    }
   ],
   "source": [
    "print(\"Another example entry:\\n\", data[999])"
   ]
  },
  {
   "cell_type": "markdown",
   "metadata": {},
   "source": [
    "Sur la figure ci-dessus à gauche, nous pouvons voir a quoi correspond le format alpaca-style:"
   ]
  },
  {
   "cell_type": "markdown",
   "metadata": {},
   "source": [
    "<img src=\"https://sebastianraschka.com/images/LLMs-from-scratch-images/ch07_compressed/prompt-style.webp\" width=500px>"
   ]
  },
  {
   "cell_type": "markdown",
   "metadata": {},
   "source": [
    "Ci-dessous, nous utilisons la fonction format_input pour convertir chaque donnée au format voulue:"
   ]
  },
  {
   "cell_type": "code",
   "execution_count": 13,
   "metadata": {},
   "outputs": [],
   "source": [
    "def format_input(entry):\n",
    "    instruction_text = (\n",
    "        f\"Below is an instruction that describes a task. \"\n",
    "        f\"Write a response that appropriately completes the request.\"\n",
    "        f\"\\n\\n### Instruction:\\n{entry['instruction']}\"\n",
    "    )\n",
    "\n",
    "    input_text = f\"\\n\\n### Input:\\n{entry['input']}\" if entry[\"input\"] else \"\"\n",
    "\n",
    "    return instruction_text + input_text"
   ]
  },
  {
   "cell_type": "markdown",
   "metadata": {},
   "source": [
    "Nous pouvons voir ici une réponse formatté."
   ]
  },
  {
   "cell_type": "code",
   "execution_count": 14,
   "metadata": {},
   "outputs": [
    {
     "name": "stdout",
     "output_type": "stream",
     "text": [
      "Below is an instruction that describes a task. Write a response that appropriately completes the request.\n",
      "\n",
      "### Instruction:\n",
      "Provides a precise answer to the following question.\n",
      "\n",
      "### Input:\n",
      "How to prevent Urinary Tract Infections ?\n",
      "\n",
      "### Response:\n",
      "Changing some of these daily habits may help prevent UTIs. - Wipe from front to back after using the toilet. Women should wipe from front to back to keep bacteria from getting into the urethra. This step is most important after a bowel movement.  Wipe from front to back after using the toilet. Women should wipe from front to back to keep bacteria from getting into the urethra. This step is most important after a bowel movement.  - Drink lots of fluid, especially water. Fluids can help flush bacteria from the urinary system. Water is best. Most healthy people should try to drink six to eight, 8-ounce glasses of fluid each day. (Some people need to drink less water because of certain conditions. For example, if you have kidney failure or heart disease, you should not drink this much fluid. Ask your health care provider how much fluid is healthy for you.)  Drink lots of fluid, especially water. Fluids can help flush bacteria from the urinary system. Water is best. Most healthy people should try to drink six to eight, 8-ounce glasses of fluid each day. (Some people need to drink less water because of certain conditions. For example, if you have kidney failure or heart disease, you should not drink this much fluid. Ask your health care provider how much fluid is healthy for you.)  - Urinate often and when the urge arises. Try to urinate at least every 3 to 4 hours. Bacteria are more likely to grow in the bladder when urine stays in the bladder too long.  Urinate often and when the urge arises. Try to urinate at least every 3 to 4 hours. Bacteria are more likely to grow in the bladder when urine stays in the bladder too long. - Urinate after sex. Both women and men should urinate shortly after sex to flush away bacteria that may have entered the urethra during sex.  Urinate after sex. Both women and men should urinate shortly after sex to flush away bacteria that may have entered the urethra during sex. - Wear cotton underwear and loose-fitting clothes. Wearing looser, cotton clothing will allow air to keep the area around the urethra dry. Tight-fitting jeans and nylon underwear should be avoided because they can trap moisture and help bacteria grow. Wear cotton underwear and loose-fitting clothes. Wearing looser, cotton clothing will allow air to keep the area around the urethra dry. Tight-fitting jeans and nylon underwear should be avoided because they can trap moisture and help bacteria grow. Drinking cranberry juice or taking cranberry supplements also may help prevent UTIs. Some studies have shown that cranberry products make UTIs less likely, especially in people who get UTIs often. But in other studies, cranberry products did not help.\n"
     ]
    }
   ],
   "source": [
    "model_input = format_input(data[50])\n",
    "desired_response = f\"\\n\\n### Response:\\n{data[50]['output']}\"\n",
    "\n",
    "print(model_input + desired_response)"
   ]
  },
  {
   "cell_type": "markdown",
   "metadata": {},
   "source": [
    "Maintenant que nos données sont formattés, nous allons les divisé en trois data loaders: un d'entrainement, de validation et de test"
   ]
  },
  {
   "cell_type": "markdown",
   "metadata": {},
   "source": [
    "Nous avons décidé d'avoir 15% des données dans notre ensemble de validation et 10% dans notre ensemble de test. Notre ensemble d'entrainement contient toutes les données car ici nous l'netrainons sur des données précises qu'il ne peut inventer si il ne les as jamais vu et ne peut pas les deviner en fonction des autres données."
   ]
  },
  {
   "cell_type": "code",
   "execution_count": 15,
   "metadata": {},
   "outputs": [],
   "source": [
    "import pandas as pd\n",
    "from sklearn.model_selection import train_test_split\n",
    "\n",
    "def split_dataset(data, val_fraction=0.15, test_fraction=0.10):\n",
    "    \n",
    "    val_test_fraction = val_fraction + test_fraction\n",
    "    train_data, val_test_data = train_test_split(\n",
    "        data, test_size=val_test_fraction, random_state=42\n",
    "    )\n",
    "    \n",
    "    val_data, test_data = train_test_split(\n",
    "        val_test_data, \n",
    "        test_size=test_fraction / val_test_fraction,  # Proportion relative à val_test_data\n",
    "        random_state=42\n",
    "    )\n",
    "\n",
    "    return data, val_data, test_data\n"
   ]
  },
  {
   "cell_type": "code",
   "execution_count": 16,
   "metadata": {},
   "outputs": [
    {
     "name": "stdout",
     "output_type": "stream",
     "text": [
      "Train Data (100 % des données) :\n",
      "1100\n",
      "\n",
      "Validation Data (15 % des données) :\n",
      "165\n",
      "\n",
      "Test Data (10 % des données) :\n",
      "110\n"
     ]
    }
   ],
   "source": [
    "train_data, val_data, test_data = split_dataset(data)\n",
    "\n",
    "print(\"Train Data (100 % des données) :\")\n",
    "print(len(train_data))\n",
    "\n",
    "print(\"\\nValidation Data (15 % des données) :\")\n",
    "print(len(val_data))\n",
    "\n",
    "print(\"\\nTest Data (10 % des données) :\")\n",
    "print(len(test_data))\n"
   ]
  },
  {
   "cell_type": "markdown",
   "metadata": {},
   "source": [
    "Nous nous retrouvons avec une dataset d'entrainement de 1100 données, un dataset de validation avec 165 données et un dataset de test avec 110 données."
   ]
  },
  {
   "cell_type": "markdown",
   "metadata": {},
   "source": [
    "Nous visualizons ici nos données"
   ]
  },
  {
   "cell_type": "code",
   "execution_count": 17,
   "metadata": {},
   "outputs": [
    {
     "data": {
      "text/plain": [
       "{'instruction': 'Provides a precise answer to the following question.',\n",
       " 'input': 'What is (are) Glaucoma ?',\n",
       " 'output': \"Glaucoma is a group of diseases that can damage the eye's optic nerve and result in vision loss and blindness. While glaucoma can strike anyone, the risk is much greater for people over 60. How Glaucoma Develops  There are several different types of glaucoma. Most of these involve the drainage system within the eye. At the front of the eye there is a small space called the anterior chamber. A clear fluid flows through this chamber and bathes and nourishes the nearby tissues. (Watch the video to learn more about glaucoma. To enlarge the video, click the brackets in the lower right-hand corner. To reduce the video, press the Escape (Esc) button on your keyboard.) In glaucoma, for still unknown reasons, the fluid drains too slowly out of the eye. As the fluid builds up, the pressure inside the eye rises. Unless this pressure is controlled, it may cause damage to the optic nerve and other parts of the eye and result in loss of vision. Open-angle Glaucoma The most common type of glaucoma is called open-angle glaucoma. In the normal eye, the clear fluid leaves the anterior chamber at the open angle where the cornea and iris meet. When fluid reaches the angle, it flows through a spongy meshwork, like a drain, and leaves the eye. Sometimes, when the fluid reaches the angle, it passes too slowly through the meshwork drain, causing the pressure inside the eye to build. If the pressure damages the optic nerve, open-angle glaucoma -- and vision loss -- may result. There is no cure for glaucoma. Vision lost from the disease cannot be restored. However, there are treatments that may save remaining vision. That is why early diagnosis is important.  See this graphic for a quick overview of glaucoma,  including how many people it affects, whos at risk, what to do if you have it, and how to learn more.  See a glossary of glaucoma terms.\"}"
      ]
     },
     "execution_count": 17,
     "metadata": {},
     "output_type": "execute_result"
    }
   ],
   "source": [
    "train_data[0]"
   ]
  },
  {
   "cell_type": "code",
   "execution_count": 18,
   "metadata": {},
   "outputs": [
    {
     "data": {
      "text/plain": [
       "{'instruction': 'Provides a precise answer to the following question.',\n",
       " 'input': 'What are the treatments for Osteoarthritis ?',\n",
       " 'output': 'Treatment Goals: Manage Pain, Improve Function Osteoarthritis treatment plans often include ways to manage pain and improve function. Such plans can include exercise, rest and joint care, pain relief, weight control, medicines, surgery, and non-traditional treatment approaches. Current treatments for osteoarthritis can relieve symptoms such as pain and disability, but right now there are no treatments that can cure osteoarthritis. Exercise: One of the Best Treatments Exercise is one of the best treatments for osteoarthritis. It can improve mood and outlook, decrease pain, increase flexibility, and help you maintain a healthy weight. The amount and form of exercise will depend on which joints are involved, how stable the joints are, whether or not the joint is swollen, and whether a joint replacement has already been done. Ask your doctor or physical therapist what exercises are best for you The following types of exercise are part of a well-rounded arthritis treatment plan. -  Strengthening exercises.  These exercises strengthen muscles that support joints affected by arthritis. They can be performed with weights or with exercise bands, inexpensive devices that add resistance.  - Aerobic activities.  These are exercises, such as brisk walking or low-impact aerobics, that get your heart pumping and can keep your lungs and circulatory system in shape.   -  Range-of-motion activities.  These keep your joints limber.  - Balance and agility exercises.  These help you maintain your balance and reduce the risk of falling.   Strengthening exercises.  These exercises strengthen muscles that support joints affected by arthritis. They can be performed with weights or with exercise bands, inexpensive devices that add resistance. Aerobic activities.  These are exercises, such as brisk walking or low-impact aerobics, that get your heart pumping and can keep your lungs and circulatory system in shape.  Range-of-motion activities.  These keep your joints limber. Balance and agility exercises.  These help you maintain your balance and reduce the risk of falling. To see examples of exercises for older adults, see  Exercises to Try or visit Go4Life,  the National Institute on Agings exercise and physical activity program for older adults. Weight Control If you are overweight or obese, you should try to lose weight. Weight loss can reduce stress on weight-bearing joints, limit further injury, increase mobility, and reduce the risk of associated health problems. A dietitian can help you develop healthy eating habits. A healthy diet and regular exercise help reduce weight. Rest and Relief from Stress on Joints Treatment plans include regularly scheduled rest. You must learn to recognize the bodys signals, and know when to stop or slow down. This will prevent the pain caused by overexertion. Although pain can make it difficult to sleep, getting proper sleep is important for managing arthritis pain. If you have trouble sleeping, you may find that relaxation techniques, stress reduction, and biofeedback can help. Timing medications to provide maximum pain relief through the night can also help. If joint pain interferes with your ability to sleep or rest, consult your doctor. Some people find relief from special footwear and insoles that can reduce pain and improve walking or from using canes to take pressure off painful joints. They may use splints or braces to provide extra support for joints and/ or keep them in proper position during sleep or activity. Splints should be used only for limited periods of time because joints and muscles need to be exercised to prevent stiffness and weakness. If you need a splint, an occupational therapist or a doctor can help you get a properly fitted one. Non-drug Pain Relief and Alternative Therapies People with osteoarthritis may find many nondrug ways to relieve pain. Below are some examples. - Heat and cold. Heat or cold (or a combination of the two) can be useful for joint pain. Heat can be applied in a number of different ways -- with warm towels, hot packs, or a warm bath or shower -- to increase blood flow and ease pain and stiffness. In some cases, cold packs (bags of ice or frozen vegetables wrapped in a towel), which reduce inflammation, can relieve pain or numb the sore area. (Check with a doctor or physical therapist to find out if heat or cold is the best treatment.) Heat and cold. Heat or cold (or a combination of the two) can be useful for joint pain. Heat can be applied in a number of different ways -- with warm towels, hot packs, or a warm bath or shower -- to increase blood flow and ease pain and stiffness. In some cases, cold packs (bags of ice or frozen vegetables wrapped in a towel), which reduce inflammation, can relieve pain or numb the sore area. (Check with a doctor or physical therapist to find out if heat or cold is the best treatment.) - Transcutaneous electrical nerve stimulation (TENS). TENS is a technique that uses a small electronic device to direct mild electric pulses to nerve endings that lie beneath the skin in the painful area. TENS may relieve some arthritis pain. It seems to work by blocking pain messages to the brain and by modifying pain perception. Transcutaneous electrical nerve stimulation (TENS). TENS is a technique that uses a small electronic device to direct mild electric pulses to nerve endings that lie beneath the skin in the painful area. TENS may relieve some arthritis pain. It seems to work by blocking pain messages to the brain and by modifying pain perception. - Massage.  In this pain-relief approach, a massage therapist will lightly stroke and/or knead the painful muscles. This may increase blood flow and bring warmth to a stressed area. However, arthritis-stressed joints are sensitive, so the therapist must be familiar with the problems of the disease.  Massage.  In this pain-relief approach, a massage therapist will lightly stroke and/or knead the painful muscles. This may increase blood flow and bring warmth to a stressed area. However, arthritis-stressed joints are sensitive, so the therapist must be familiar with the problems of the disease. -  Acupuncture.  Some people have found pain relief using acupuncture, a practice in which fine needles are inserted by a licensed acupuncture therapist at specific points on the skin. Scientists think the needles stimulate the release of natural, pain-relieving chemicals produced by the nervous system. A large study supported by the National Institute of Arthritis and Musculoskeletal and Skin Diseases (NIAMS) and the National Center for Complementary and Alternative Medicine (NCCAM) revealed that acupuncture relieves pain and improves function in knee osteoarthritis, and it serves as an effective complement to standard care.  Acupuncture.  Some people have found pain relief using acupuncture, a practice in which fine needles are inserted by a licensed acupuncture therapist at specific points on the skin. Scientists think the needles stimulate the release of natural, pain-relieving chemicals produced by the nervous system. A large study supported by the National Institute of Arthritis and Musculoskeletal and Skin Diseases (NIAMS) and the National Center for Complementary and Alternative Medicine (NCCAM) revealed that acupuncture relieves pain and improves function in knee osteoarthritis, and it serves as an effective complement to standard care. - Nutritional supplements, such as glucosamine and chondroitin sulfate have been reported to improve the symptoms of people with osteoarthritis, as have certain vitamins. Additional studies have been carried out to further evaluate these claims. It is unknown whether they might change the course of disease. Nutritional supplements, such as glucosamine and chondroitin sulfate have been reported to improve the symptoms of people with osteoarthritis, as have certain vitamins. Additional studies have been carried out to further evaluate these claims. It is unknown whether they might change the course of disease. - Folk remedies. These include the wearing of copper bracelets, following special diets, and rubbing WD-40 on joints to lubricate them. Although these practices may or may not be harmful, no scientific research to date shows that they are helpful in treating osteoarthritis. They can also be expensive, and using them may cause people to delay or even abandon useful medical treatment. Folk remedies. These include the wearing of copper bracelets, following special diets, and rubbing WD-40 on joints to lubricate them. Although these practices may or may not be harmful, no scientific research to date shows that they are helpful in treating osteoarthritis. They can also be expensive, and using them may cause people to delay or even abandon useful medical treatment. For general information on alternative therapies, see the Complementary Health Approaches topic. Medications Doctors consider a number of factors when choosing medicines for their patients. In particular, they look at the type of pain the patient may be having and any possible side effects from the drugs. For pain relief, doctors usually start with acetaminophen because the side effects are minimal. If acetaminophen does not relieve pain, then non-steroidal anti-inflammatory drugs such as ibuprofen and naproxen may be used. Some NSAIDs are available over the counter, while more than a dozen others, including a subclass called COX-2 inhibitors, are available only with a prescription. Other medications, including corticosteroids, hyaluronic acid, and topical creams are also used. Reduce the Risks of NSAID Use Most medicines used to treat osteoarthritis have side effects, so it is important for people to learn about the medicines they take. For example, people over age 65 and those with any history of ulcers or stomach bleeding should use non-steroidal anti-inflammatory drugs, or NSAIDs, with caution. There are measures you can take to help reduce the risk of side effects associated with NSAIDs. These include taking medications with food and avoiding stomach irritants such as alcohol, tobacco, and caffeine. In some cases, it may help to take another medication along with an NSAID to coat the stomach or block stomach acids. Although these measures may help, they are not always completely effective. For more tips on how older adults can avoid side effects, see Side Effects  in the Taking Medicines topic. Surgery For many people, surgery helps relieve the pain and disability of osteoarthritis. Surgery may be performed to achieve one or more of the following goals. - Removal of loose pieces of bone and cartilage from the joint if they are causing symptoms of buckling or locking (arthroscopic debridement).  - Repositioning of bones (osteotomy).  - Resurfacing (smoothing out) bones (joint resurfacing). Removal of loose pieces of bone and cartilage from the joint if they are causing symptoms of buckling or locking (arthroscopic debridement). Repositioning of bones (osteotomy). Resurfacing (smoothing out) bones (joint resurfacing). Joint Replacement Surgeons may replace affected joints with artificial joints called prostheses. These joints can be made from metal alloys, high-density plastic, and ceramic material. Some prostheses are joined to bone surfaces with special cements. Others have porous surfaces and rely on the growth of bone into that surface (a process called biologic fixation) to hold them in place. Artificial joints can last 10 to 15 years or longer. Surgeons choose the design and components of prostheses according to their patients weight, sex, age, activity level, and other medical conditions. Joint replacement advances in recent years have included the ability, in some cases, to replace only the damaged part of the knee joint, leaving undamaged parts of the joint intact, and the ability to perform hip replacement through much smaller incisions than previously possible. For more on joint replacement see the Hip Replacement and Knee Replacement topics. Deciding on Surgery The decision to use surgery depends on several factors, including the patients age, occupation, level of disability, pain intensity, and the degree to which arthritis interferes with his or her lifestyle. After surgery and rehabilitation, the patient usually feels less pain and swelling and can move more easily.'}"
      ]
     },
     "execution_count": 18,
     "metadata": {},
     "output_type": "execute_result"
    }
   ],
   "source": [
    "val_data[0]"
   ]
  },
  {
   "cell_type": "markdown",
   "metadata": {},
   "source": [
    "Nous implémentons une classe InstructionDataset qui pré-tokenizes nos données aux bon format."
   ]
  },
  {
   "cell_type": "code",
   "execution_count": 19,
   "metadata": {},
   "outputs": [],
   "source": [
    "import torch\n",
    "from torch.utils.data import Dataset\n",
    "\n",
    "\n",
    "class InstructionDataset(Dataset):\n",
    "    def __init__(self, data, tokenizer):\n",
    "        self.data = data\n",
    "\n",
    "        # Pre-tokenize texts\n",
    "        self.encoded_texts = []\n",
    "        for entry in data:\n",
    "            instruction_plus_input = format_input(entry)\n",
    "            response_text = f\"\\n\\n### Response:\\n{entry['output']}\"\n",
    "            full_text = instruction_plus_input + response_text\n",
    "            self.encoded_texts.append(\n",
    "                tokenizer.encode(full_text)\n",
    "            )\n",
    "\n",
    "    def __getitem__(self, index):\n",
    "        return self.encoded_texts[index]\n",
    "\n",
    "    def __len__(self):\n",
    "        return len(self.data)"
   ]
  },
  {
   "cell_type": "markdown",
   "metadata": {},
   "source": [
    "Nos données n'ont pas toutes la même longueur or nous voulons mettre plusieurs échantillons dans des batchs pour accélerer l'entrainement. Nous allons donc ajouter un padding ici `<|endoftext|>` token pour que chaque échantillon ait la même longueur."
   ]
  },
  {
   "cell_type": "code",
   "execution_count": 20,
   "metadata": {},
   "outputs": [
    {
     "name": "stdout",
     "output_type": "stream",
     "text": [
      "[50256]\n"
     ]
    }
   ],
   "source": [
    "import tiktoken\n",
    "tokenizer = tiktoken.get_encoding(\"gpt2\")\n",
    "\n",
    "print(tokenizer.encode(\"<|endoftext|>\", allowed_special={\"<|endoftext|>\"}))"
   ]
  },
  {
   "cell_type": "markdown",
   "metadata": {},
   "source": [
    "\n",
    "Nous développons une fonction « collate » personnalisée que nous pouvons passer au data loader.\n",
    "Cette fonction permet d'aligner les exemples d'entraînement de chaque lot sur la même longueur (mais les différents lots peuvent avoir des longueurs différentes).\n",
    "\n",
    "De plus, pour l'entraînement LLM, nous avons également besoin des valeurs cibles donc les cibles sont les entrées décalées d'une position vers la droite, afin que le LLM apprenne à prédire le prochain jeton.\n",
    "\n",
    "Nous mettons aussi en place une valeur `ignore_index` pour remplacer tous les ID de jetons de remplissage par une nouvelle valeur. Ici, nous remplaçons les tokens ID correspondant à `50256` par `-100`.\n",
    "\n",
    "Pour finir, on ajoute le paramètre `allowed_max_length` au cas où nous voudrions limiter la longueur des échantillons."
   ]
  },
  {
   "cell_type": "code",
   "execution_count": 33,
   "metadata": {},
   "outputs": [],
   "source": [
    "def custom_collate(\n",
    "    batch,\n",
    "    pad_token_id=50256,\n",
    "    ignore_index=-100,\n",
    "    allowed_max_length=None,\n",
    "    device=\"cpu\"\n",
    "):\n",
    "    # Find the longest sequence in the batch\n",
    "    batch_max_length = max(len(item)+1 for item in batch)\n",
    "\n",
    "    # Pad and prepare inputs and targets\n",
    "    inputs_lst, targets_lst = [], []\n",
    "\n",
    "    for item in batch:\n",
    "        new_item = item.copy()\n",
    "        # Add an <|endoftext|> token\n",
    "        new_item += [pad_token_id]\n",
    "        # Pad sequences to max_length\n",
    "        padded = new_item + [pad_token_id] * (batch_max_length - len(new_item))\n",
    "        inputs = torch.tensor(padded[:-1])  # Truncate the last token for inputs\n",
    "        targets = torch.tensor(padded[1:])  # Shift +1 to the right for targets\n",
    "\n",
    "        # New: Replace all but the first padding tokens in targets by ignore_index\n",
    "        mask = targets == pad_token_id\n",
    "        indices = torch.nonzero(mask).squeeze()\n",
    "        if indices.numel() > 1:\n",
    "            targets[indices[1:]] = ignore_index\n",
    "\n",
    "        # New: Optionally truncate to maximum sequence length\n",
    "        if allowed_max_length is not None:\n",
    "            inputs = inputs[:allowed_max_length]\n",
    "            targets = targets[:allowed_max_length]\n",
    "\n",
    "        inputs_lst.append(inputs)\n",
    "        targets_lst.append(targets)\n",
    "\n",
    "    # Convert list of inputs and targets to tensors and transfer to target device\n",
    "    inputs_tensor = torch.stack(inputs_lst).to(device)\n",
    "    targets_tensor = torch.stack(targets_lst).to(device)\n",
    "\n",
    "    return inputs_tensor, targets_tensor"
   ]
  },
  {
   "cell_type": "markdown",
   "metadata": {},
   "source": [
    "Nous voulons déplacer maintenant directement les données vers le dispositif cible (pour nous un cpu) au lieu de le faire dans la boucle d'entraînement principale, ce qui améliore l'efficacité parce que cela peut être effectué comme un processus de fond lorsque nous utilisons la fonction `custom_collate_fn` comme une partie du chargeur de données.\n",
    "La fonction `partial` de la bibliothèque `functools`, nous permet de créer une nouvelle fonction avec l'argument `device` de la fonction originale pré-rempli."
   ]
  },
  {
   "cell_type": "code",
   "execution_count": 34,
   "metadata": {},
   "outputs": [
    {
     "name": "stdout",
     "output_type": "stream",
     "text": [
      "Device: cpu\n"
     ]
    }
   ],
   "source": [
    "device = torch.device(\"cuda\" if torch.cuda.is_available() else \"cpu\")\n",
    "\n",
    "print(\"Device:\", device)"
   ]
  },
  {
   "cell_type": "code",
   "execution_count": 36,
   "metadata": {},
   "outputs": [],
   "source": [
    "from functools import partial\n",
    "\n",
    "customized_collate_fn = partial(custom_collate, device=device, allowed_max_length=1024)"
   ]
  },
  {
   "cell_type": "markdown",
   "metadata": {},
   "source": [
    "Nous instantions enfin nos data loaders."
   ]
  },
  {
   "cell_type": "code",
   "execution_count": 37,
   "metadata": {},
   "outputs": [],
   "source": [
    "from torch.utils.data import DataLoader\n",
    "\n",
    "\n",
    "num_workers = 0\n",
    "batch_size = 8\n",
    "\n",
    "torch.manual_seed(123)\n",
    "\n",
    "train_dataset = InstructionDataset(train_data, tokenizer)\n",
    "train_loader = DataLoader(\n",
    "    train_dataset,\n",
    "    batch_size=batch_size,\n",
    "    collate_fn=customized_collate_fn,\n",
    "    shuffle=True,\n",
    "    drop_last=True,\n",
    "    num_workers=num_workers\n",
    ")"
   ]
  },
  {
   "cell_type": "code",
   "execution_count": 38,
   "metadata": {},
   "outputs": [],
   "source": [
    "val_dataset = InstructionDataset(val_data, tokenizer)\n",
    "val_loader = DataLoader(\n",
    "    val_dataset,\n",
    "    batch_size=batch_size,\n",
    "    collate_fn=customized_collate_fn,\n",
    "    shuffle=False,\n",
    "    drop_last=False,\n",
    "    num_workers=num_workers\n",
    ")\n",
    "\n",
    "test_dataset = InstructionDataset(test_data, tokenizer)\n",
    "test_loader = DataLoader(\n",
    "    test_dataset,\n",
    "    batch_size=batch_size,\n",
    "    collate_fn=customized_collate_fn,\n",
    "    shuffle=False,\n",
    "    drop_last=False,\n",
    "    num_workers=num_workers\n",
    ")"
   ]
  },
  {
   "cell_type": "code",
   "execution_count": 39,
   "metadata": {},
   "outputs": [
    {
     "name": "stdout",
     "output_type": "stream",
     "text": [
      "Train loader:\n",
      "torch.Size([8, 1024]) torch.Size([8, 1024])\n",
      "torch.Size([8, 1024]) torch.Size([8, 1024])\n",
      "torch.Size([8, 1024]) torch.Size([8, 1024])\n",
      "torch.Size([8, 1024]) torch.Size([8, 1024])\n",
      "torch.Size([8, 1024]) torch.Size([8, 1024])\n",
      "torch.Size([8, 1024]) torch.Size([8, 1024])\n",
      "torch.Size([8, 1024]) torch.Size([8, 1024])\n",
      "torch.Size([8, 1024]) torch.Size([8, 1024])\n",
      "torch.Size([8, 1024]) torch.Size([8, 1024])\n",
      "torch.Size([8, 1024]) torch.Size([8, 1024])\n",
      "torch.Size([8, 825]) torch.Size([8, 825])\n",
      "torch.Size([8, 1024]) torch.Size([8, 1024])\n"
     ]
    },
    {
     "name": "stdout",
     "output_type": "stream",
     "text": [
      "torch.Size([8, 1024]) torch.Size([8, 1024])\n",
      "torch.Size([8, 1024]) torch.Size([8, 1024])\n",
      "torch.Size([8, 1024]) torch.Size([8, 1024])\n",
      "torch.Size([8, 1024]) torch.Size([8, 1024])\n",
      "torch.Size([8, 673]) torch.Size([8, 673])\n",
      "torch.Size([8, 1024]) torch.Size([8, 1024])\n",
      "torch.Size([8, 765]) torch.Size([8, 765])\n",
      "torch.Size([8, 1024]) torch.Size([8, 1024])\n",
      "torch.Size([8, 1024]) torch.Size([8, 1024])\n",
      "torch.Size([8, 1024]) torch.Size([8, 1024])\n",
      "torch.Size([8, 688]) torch.Size([8, 688])\n",
      "torch.Size([8, 629]) torch.Size([8, 629])\n",
      "torch.Size([8, 986]) torch.Size([8, 986])\n",
      "torch.Size([8, 1024]) torch.Size([8, 1024])\n",
      "torch.Size([8, 1024]) torch.Size([8, 1024])\n",
      "torch.Size([8, 1024]) torch.Size([8, 1024])\n",
      "torch.Size([8, 445]) torch.Size([8, 445])\n",
      "torch.Size([8, 972]) torch.Size([8, 972])\n",
      "torch.Size([8, 1024]) torch.Size([8, 1024])\n",
      "torch.Size([8, 426]) torch.Size([8, 426])\n",
      "torch.Size([8, 1024]) torch.Size([8, 1024])\n",
      "torch.Size([8, 1024]) torch.Size([8, 1024])\n",
      "torch.Size([8, 330]) torch.Size([8, 330])\n",
      "torch.Size([8, 1024]) torch.Size([8, 1024])\n",
      "torch.Size([8, 603]) torch.Size([8, 603])\n",
      "torch.Size([8, 788]) torch.Size([8, 788])\n",
      "torch.Size([8, 626]) torch.Size([8, 626])\n",
      "torch.Size([8, 997]) torch.Size([8, 997])\n",
      "torch.Size([8, 1024]) torch.Size([8, 1024])\n",
      "torch.Size([8, 606]) torch.Size([8, 606])\n",
      "torch.Size([8, 1024]) torch.Size([8, 1024])\n",
      "torch.Size([8, 707]) torch.Size([8, 707])\n",
      "torch.Size([8, 1024]) torch.Size([8, 1024])\n",
      "torch.Size([8, 1024]) torch.Size([8, 1024])\n",
      "torch.Size([8, 1024]) torch.Size([8, 1024])\n",
      "torch.Size([8, 892]) torch.Size([8, 892])\n",
      "torch.Size([8, 1024]) torch.Size([8, 1024])\n",
      "torch.Size([8, 1024]) torch.Size([8, 1024])\n",
      "torch.Size([8, 1024]) torch.Size([8, 1024])\n",
      "torch.Size([8, 1024]) torch.Size([8, 1024])\n",
      "torch.Size([8, 1024]) torch.Size([8, 1024])\n",
      "torch.Size([8, 1024]) torch.Size([8, 1024])\n",
      "torch.Size([8, 612]) torch.Size([8, 612])\n",
      "torch.Size([8, 548]) torch.Size([8, 548])\n",
      "torch.Size([8, 1024]) torch.Size([8, 1024])\n",
      "torch.Size([8, 1024]) torch.Size([8, 1024])\n",
      "torch.Size([8, 1024]) torch.Size([8, 1024])\n",
      "torch.Size([8, 1024]) torch.Size([8, 1024])\n",
      "torch.Size([8, 1024]) torch.Size([8, 1024])\n",
      "torch.Size([8, 871]) torch.Size([8, 871])\n",
      "torch.Size([8, 445]) torch.Size([8, 445])\n",
      "torch.Size([8, 1024]) torch.Size([8, 1024])\n",
      "torch.Size([8, 1024]) torch.Size([8, 1024])\n",
      "torch.Size([8, 748]) torch.Size([8, 748])\n",
      "torch.Size([8, 1024]) torch.Size([8, 1024])\n",
      "torch.Size([8, 1024]) torch.Size([8, 1024])\n",
      "torch.Size([8, 772]) torch.Size([8, 772])\n",
      "torch.Size([8, 544]) torch.Size([8, 544])\n",
      "torch.Size([8, 1024]) torch.Size([8, 1024])\n",
      "torch.Size([8, 557]) torch.Size([8, 557])\n",
      "torch.Size([8, 1024]) torch.Size([8, 1024])\n",
      "torch.Size([8, 1024]) torch.Size([8, 1024])\n",
      "torch.Size([8, 1024]) torch.Size([8, 1024])\n",
      "torch.Size([8, 1024]) torch.Size([8, 1024])\n",
      "torch.Size([8, 1024]) torch.Size([8, 1024])\n",
      "torch.Size([8, 1024]) torch.Size([8, 1024])\n",
      "torch.Size([8, 1024]) torch.Size([8, 1024])\n",
      "torch.Size([8, 1024]) torch.Size([8, 1024])\n",
      "torch.Size([8, 680]) torch.Size([8, 680])\n",
      "torch.Size([8, 1024]) torch.Size([8, 1024])\n",
      "torch.Size([8, 1024]) torch.Size([8, 1024])\n",
      "torch.Size([8, 801]) torch.Size([8, 801])\n",
      "torch.Size([8, 1024]) torch.Size([8, 1024])\n",
      "torch.Size([8, 1024]) torch.Size([8, 1024])\n",
      "torch.Size([8, 1024]) torch.Size([8, 1024])\n",
      "torch.Size([8, 1024]) torch.Size([8, 1024])\n",
      "torch.Size([8, 1024]) torch.Size([8, 1024])\n",
      "torch.Size([8, 1024]) torch.Size([8, 1024])\n",
      "torch.Size([8, 515]) torch.Size([8, 515])\n",
      "torch.Size([8, 1024]) torch.Size([8, 1024])\n",
      "torch.Size([8, 1024]) torch.Size([8, 1024])\n",
      "torch.Size([8, 1024]) torch.Size([8, 1024])\n",
      "torch.Size([8, 775]) torch.Size([8, 775])\n",
      "torch.Size([8, 653]) torch.Size([8, 653])\n",
      "torch.Size([8, 338]) torch.Size([8, 338])\n",
      "torch.Size([8, 1024]) torch.Size([8, 1024])\n",
      "torch.Size([8, 838]) torch.Size([8, 838])\n",
      "torch.Size([8, 863]) torch.Size([8, 863])\n",
      "torch.Size([8, 1024]) torch.Size([8, 1024])\n",
      "torch.Size([8, 563]) torch.Size([8, 563])\n",
      "torch.Size([8, 847]) torch.Size([8, 847])\n",
      "torch.Size([8, 1024]) torch.Size([8, 1024])\n",
      "torch.Size([8, 1024]) torch.Size([8, 1024])\n",
      "torch.Size([8, 1024]) torch.Size([8, 1024])\n",
      "torch.Size([8, 1024]) torch.Size([8, 1024])\n",
      "torch.Size([8, 769]) torch.Size([8, 769])\n",
      "torch.Size([8, 1024]) torch.Size([8, 1024])\n",
      "torch.Size([8, 1024]) torch.Size([8, 1024])\n",
      "torch.Size([8, 1024]) torch.Size([8, 1024])\n",
      "torch.Size([8, 1024]) torch.Size([8, 1024])\n",
      "torch.Size([8, 1024]) torch.Size([8, 1024])\n",
      "torch.Size([8, 1024]) torch.Size([8, 1024])\n",
      "torch.Size([8, 1024]) torch.Size([8, 1024])\n",
      "torch.Size([8, 1024]) torch.Size([8, 1024])\n",
      "torch.Size([8, 600]) torch.Size([8, 600])\n",
      "torch.Size([8, 1024]) torch.Size([8, 1024])\n",
      "torch.Size([8, 470]) torch.Size([8, 470])\n",
      "torch.Size([8, 1024]) torch.Size([8, 1024])\n",
      "torch.Size([8, 1024]) torch.Size([8, 1024])\n",
      "torch.Size([8, 1024]) torch.Size([8, 1024])\n",
      "torch.Size([8, 628]) torch.Size([8, 628])\n",
      "torch.Size([8, 1024]) torch.Size([8, 1024])\n",
      "torch.Size([8, 1024]) torch.Size([8, 1024])\n",
      "torch.Size([8, 1024]) torch.Size([8, 1024])\n",
      "torch.Size([8, 1024]) torch.Size([8, 1024])\n",
      "torch.Size([8, 764]) torch.Size([8, 764])\n",
      "torch.Size([8, 1024]) torch.Size([8, 1024])\n",
      "torch.Size([8, 1024]) torch.Size([8, 1024])\n",
      "torch.Size([8, 877]) torch.Size([8, 877])\n",
      "torch.Size([8, 1024]) torch.Size([8, 1024])\n",
      "torch.Size([8, 1024]) torch.Size([8, 1024])\n",
      "torch.Size([8, 1024]) torch.Size([8, 1024])\n",
      "torch.Size([8, 1024]) torch.Size([8, 1024])\n",
      "torch.Size([8, 1024]) torch.Size([8, 1024])\n",
      "torch.Size([8, 1024]) torch.Size([8, 1024])\n"
     ]
    }
   ],
   "source": [
    "print(\"Train loader:\")\n",
    "for inputs, targets in train_loader:\n",
    "    print(inputs.shape, targets.shape)"
   ]
  },
  {
   "cell_type": "markdown",
   "metadata": {},
   "source": [
    "Come on peut le voir, chaque batch a une longueur différente comme désiré."
   ]
  },
  {
   "cell_type": "code",
   "execution_count": 40,
   "metadata": {},
   "outputs": [
    {
     "name": "stdout",
     "output_type": "stream",
     "text": [
      "tensor([21106,   318,   281,  ..., 50256, 50256, 50256])\n"
     ]
    }
   ],
   "source": [
    "print(inputs[0])"
   ]
  },
  {
   "cell_type": "code",
   "execution_count": 41,
   "metadata": {},
   "outputs": [
    {
     "name": "stdout",
     "output_type": "stream",
     "text": [
      "tensor([  318,   281, 12064,  ...,  -100,  -100,  -100])\n"
     ]
    }
   ],
   "source": [
    "print(targets[0])"
   ]
  },
  {
   "cell_type": "markdown",
   "metadata": {},
   "source": [
    "Maintenant que nos données sont prêtes, on télécharge le modèle pré-entrainé GPT2 avec 355 million de parametres."
   ]
  },
  {
   "cell_type": "code",
   "execution_count": 29,
   "metadata": {},
   "outputs": [
    {
     "name": "stdout",
     "output_type": "stream",
     "text": [
      "File already exists and is up-to-date: gpt2\\355M\\checkpoint\n",
      "File already exists and is up-to-date: gpt2\\355M\\encoder.json\n",
      "File already exists and is up-to-date: gpt2\\355M\\hparams.json\n",
      "File already exists and is up-to-date: gpt2\\355M\\model.ckpt.data-00000-of-00001\n",
      "File already exists and is up-to-date: gpt2\\355M\\model.ckpt.index\n",
      "File already exists and is up-to-date: gpt2\\355M\\model.ckpt.meta\n",
      "File already exists and is up-to-date: gpt2\\355M\\vocab.bpe\n"
     ]
    }
   ],
   "source": [
    "from gpt_download import download_and_load_gpt2\n",
    "from gpt import GPTModel, load_weights_into_gpt\n",
    "\n",
    "\n",
    "BASE_CONFIG = {\n",
    "    \"vocab_size\": 50257,     # Vocabulary size\n",
    "    \"context_length\": 1024,  # Context length\n",
    "    \"drop_rate\": 0.0,        # Dropout rate\n",
    "    \"qkv_bias\": True         # Query-key-value bias\n",
    "}\n",
    "\n",
    "model_configs = {\n",
    "    \"gpt2-small (124M)\": {\"emb_dim\": 768, \"n_layers\": 12, \"n_heads\": 12},\n",
    "    \"gpt2-medium (355M)\": {\"emb_dim\": 1024, \"n_layers\": 24, \"n_heads\": 16},\n",
    "    \"gpt2-large (774M)\": {\"emb_dim\": 1280, \"n_layers\": 36, \"n_heads\": 20},\n",
    "    \"gpt2-xl (1558M)\": {\"emb_dim\": 1600, \"n_layers\": 48, \"n_heads\": 25},\n",
    "}\n",
    "\n",
    "CHOOSE_MODEL = \"gpt2-medium (355M)\"\n",
    "\n",
    "BASE_CONFIG.update(model_configs[CHOOSE_MODEL])\n",
    "\n",
    "model_size = CHOOSE_MODEL.split(\" \")[-1].lstrip(\"(\").rstrip(\")\")\n",
    "settings, params = download_and_load_gpt2(model_size=model_size, models_dir=\"gpt2\")\n",
    "\n",
    "model = GPTModel(BASE_CONFIG)\n",
    "load_weights_into_gpt(model, params)\n",
    "model.eval();"
   ]
  },
  {
   "cell_type": "code",
   "execution_count": 30,
   "metadata": {},
   "outputs": [
    {
     "name": "stdout",
     "output_type": "stream",
     "text": [
      "Below is an instruction that describes a task. Write a response that appropriately completes the request.\n",
      "\n",
      "### Instruction:\n",
      "Provides a precise answer to the following question.\n",
      "\n",
      "### Input:\n",
      "What are the treatments for Osteoarthritis ?\n"
     ]
    }
   ],
   "source": [
    "import torch\n",
    "\n",
    "torch.manual_seed(123)\n",
    "\n",
    "input_text = format_input(val_data[0])\n",
    "print(input_text)"
   ]
  },
  {
   "cell_type": "code",
   "execution_count": 31,
   "metadata": {},
   "outputs": [
    {
     "data": {
      "text/plain": [
       "{'instruction': 'Provides a precise answer to the following question.',\n",
       " 'input': 'What are the treatments for Osteoarthritis ?',\n",
       " 'output': 'Treatment Goals: Manage Pain, Improve Function Osteoarthritis treatment plans often include ways to manage pain and improve function. Such plans can include exercise, rest and joint care, pain relief, weight control, medicines, surgery, and non-traditional treatment approaches. Current treatments for osteoarthritis can relieve symptoms such as pain and disability, but right now there are no treatments that can cure osteoarthritis. Exercise: One of the Best Treatments Exercise is one of the best treatments for osteoarthritis. It can improve mood and outlook, decrease pain, increase flexibility, and help you maintain a healthy weight. The amount and form of exercise will depend on which joints are involved, how stable the joints are, whether or not the joint is swollen, and whether a joint replacement has already been done. Ask your doctor or physical therapist what exercises are best for you The following types of exercise are part of a well-rounded arthritis treatment plan. -  Strengthening exercises.  These exercises strengthen muscles that support joints affected by arthritis. They can be performed with weights or with exercise bands, inexpensive devices that add resistance.  - Aerobic activities.  These are exercises, such as brisk walking or low-impact aerobics, that get your heart pumping and can keep your lungs and circulatory system in shape.   -  Range-of-motion activities.  These keep your joints limber.  - Balance and agility exercises.  These help you maintain your balance and reduce the risk of falling.   Strengthening exercises.  These exercises strengthen muscles that support joints affected by arthritis. They can be performed with weights or with exercise bands, inexpensive devices that add resistance. Aerobic activities.  These are exercises, such as brisk walking or low-impact aerobics, that get your heart pumping and can keep your lungs and circulatory system in shape.  Range-of-motion activities.  These keep your joints limber. Balance and agility exercises.  These help you maintain your balance and reduce the risk of falling. To see examples of exercises for older adults, see  Exercises to Try or visit Go4Life,  the National Institute on Agings exercise and physical activity program for older adults. Weight Control If you are overweight or obese, you should try to lose weight. Weight loss can reduce stress on weight-bearing joints, limit further injury, increase mobility, and reduce the risk of associated health problems. A dietitian can help you develop healthy eating habits. A healthy diet and regular exercise help reduce weight. Rest and Relief from Stress on Joints Treatment plans include regularly scheduled rest. You must learn to recognize the bodys signals, and know when to stop or slow down. This will prevent the pain caused by overexertion. Although pain can make it difficult to sleep, getting proper sleep is important for managing arthritis pain. If you have trouble sleeping, you may find that relaxation techniques, stress reduction, and biofeedback can help. Timing medications to provide maximum pain relief through the night can also help. If joint pain interferes with your ability to sleep or rest, consult your doctor. Some people find relief from special footwear and insoles that can reduce pain and improve walking or from using canes to take pressure off painful joints. They may use splints or braces to provide extra support for joints and/ or keep them in proper position during sleep or activity. Splints should be used only for limited periods of time because joints and muscles need to be exercised to prevent stiffness and weakness. If you need a splint, an occupational therapist or a doctor can help you get a properly fitted one. Non-drug Pain Relief and Alternative Therapies People with osteoarthritis may find many nondrug ways to relieve pain. Below are some examples. - Heat and cold. Heat or cold (or a combination of the two) can be useful for joint pain. Heat can be applied in a number of different ways -- with warm towels, hot packs, or a warm bath or shower -- to increase blood flow and ease pain and stiffness. In some cases, cold packs (bags of ice or frozen vegetables wrapped in a towel), which reduce inflammation, can relieve pain or numb the sore area. (Check with a doctor or physical therapist to find out if heat or cold is the best treatment.) Heat and cold. Heat or cold (or a combination of the two) can be useful for joint pain. Heat can be applied in a number of different ways -- with warm towels, hot packs, or a warm bath or shower -- to increase blood flow and ease pain and stiffness. In some cases, cold packs (bags of ice or frozen vegetables wrapped in a towel), which reduce inflammation, can relieve pain or numb the sore area. (Check with a doctor or physical therapist to find out if heat or cold is the best treatment.) - Transcutaneous electrical nerve stimulation (TENS). TENS is a technique that uses a small electronic device to direct mild electric pulses to nerve endings that lie beneath the skin in the painful area. TENS may relieve some arthritis pain. It seems to work by blocking pain messages to the brain and by modifying pain perception. Transcutaneous electrical nerve stimulation (TENS). TENS is a technique that uses a small electronic device to direct mild electric pulses to nerve endings that lie beneath the skin in the painful area. TENS may relieve some arthritis pain. It seems to work by blocking pain messages to the brain and by modifying pain perception. - Massage.  In this pain-relief approach, a massage therapist will lightly stroke and/or knead the painful muscles. This may increase blood flow and bring warmth to a stressed area. However, arthritis-stressed joints are sensitive, so the therapist must be familiar with the problems of the disease.  Massage.  In this pain-relief approach, a massage therapist will lightly stroke and/or knead the painful muscles. This may increase blood flow and bring warmth to a stressed area. However, arthritis-stressed joints are sensitive, so the therapist must be familiar with the problems of the disease. -  Acupuncture.  Some people have found pain relief using acupuncture, a practice in which fine needles are inserted by a licensed acupuncture therapist at specific points on the skin. Scientists think the needles stimulate the release of natural, pain-relieving chemicals produced by the nervous system. A large study supported by the National Institute of Arthritis and Musculoskeletal and Skin Diseases (NIAMS) and the National Center for Complementary and Alternative Medicine (NCCAM) revealed that acupuncture relieves pain and improves function in knee osteoarthritis, and it serves as an effective complement to standard care.  Acupuncture.  Some people have found pain relief using acupuncture, a practice in which fine needles are inserted by a licensed acupuncture therapist at specific points on the skin. Scientists think the needles stimulate the release of natural, pain-relieving chemicals produced by the nervous system. A large study supported by the National Institute of Arthritis and Musculoskeletal and Skin Diseases (NIAMS) and the National Center for Complementary and Alternative Medicine (NCCAM) revealed that acupuncture relieves pain and improves function in knee osteoarthritis, and it serves as an effective complement to standard care. - Nutritional supplements, such as glucosamine and chondroitin sulfate have been reported to improve the symptoms of people with osteoarthritis, as have certain vitamins. Additional studies have been carried out to further evaluate these claims. It is unknown whether they might change the course of disease. Nutritional supplements, such as glucosamine and chondroitin sulfate have been reported to improve the symptoms of people with osteoarthritis, as have certain vitamins. Additional studies have been carried out to further evaluate these claims. It is unknown whether they might change the course of disease. - Folk remedies. These include the wearing of copper bracelets, following special diets, and rubbing WD-40 on joints to lubricate them. Although these practices may or may not be harmful, no scientific research to date shows that they are helpful in treating osteoarthritis. They can also be expensive, and using them may cause people to delay or even abandon useful medical treatment. Folk remedies. These include the wearing of copper bracelets, following special diets, and rubbing WD-40 on joints to lubricate them. Although these practices may or may not be harmful, no scientific research to date shows that they are helpful in treating osteoarthritis. They can also be expensive, and using them may cause people to delay or even abandon useful medical treatment. For general information on alternative therapies, see the Complementary Health Approaches topic. Medications Doctors consider a number of factors when choosing medicines for their patients. In particular, they look at the type of pain the patient may be having and any possible side effects from the drugs. For pain relief, doctors usually start with acetaminophen because the side effects are minimal. If acetaminophen does not relieve pain, then non-steroidal anti-inflammatory drugs such as ibuprofen and naproxen may be used. Some NSAIDs are available over the counter, while more than a dozen others, including a subclass called COX-2 inhibitors, are available only with a prescription. Other medications, including corticosteroids, hyaluronic acid, and topical creams are also used. Reduce the Risks of NSAID Use Most medicines used to treat osteoarthritis have side effects, so it is important for people to learn about the medicines they take. For example, people over age 65 and those with any history of ulcers or stomach bleeding should use non-steroidal anti-inflammatory drugs, or NSAIDs, with caution. There are measures you can take to help reduce the risk of side effects associated with NSAIDs. These include taking medications with food and avoiding stomach irritants such as alcohol, tobacco, and caffeine. In some cases, it may help to take another medication along with an NSAID to coat the stomach or block stomach acids. Although these measures may help, they are not always completely effective. For more tips on how older adults can avoid side effects, see Side Effects  in the Taking Medicines topic. Surgery For many people, surgery helps relieve the pain and disability of osteoarthritis. Surgery may be performed to achieve one or more of the following goals. - Removal of loose pieces of bone and cartilage from the joint if they are causing symptoms of buckling or locking (arthroscopic debridement).  - Repositioning of bones (osteotomy).  - Resurfacing (smoothing out) bones (joint resurfacing). Removal of loose pieces of bone and cartilage from the joint if they are causing symptoms of buckling or locking (arthroscopic debridement). Repositioning of bones (osteotomy). Resurfacing (smoothing out) bones (joint resurfacing). Joint Replacement Surgeons may replace affected joints with artificial joints called prostheses. These joints can be made from metal alloys, high-density plastic, and ceramic material. Some prostheses are joined to bone surfaces with special cements. Others have porous surfaces and rely on the growth of bone into that surface (a process called biologic fixation) to hold them in place. Artificial joints can last 10 to 15 years or longer. Surgeons choose the design and components of prostheses according to their patients weight, sex, age, activity level, and other medical conditions. Joint replacement advances in recent years have included the ability, in some cases, to replace only the damaged part of the knee joint, leaving undamaged parts of the joint intact, and the ability to perform hip replacement through much smaller incisions than previously possible. For more on joint replacement see the Hip Replacement and Knee Replacement topics. Deciding on Surgery The decision to use surgery depends on several factors, including the patients age, occupation, level of disability, pain intensity, and the degree to which arthritis interferes with his or her lifestyle. After surgery and rehabilitation, the patient usually feels less pain and swelling and can move more easily.'}"
      ]
     },
     "execution_count": 31,
     "metadata": {},
     "output_type": "execute_result"
    }
   ],
   "source": [
    "val_data[0]"
   ]
  },
  {
   "cell_type": "code",
   "execution_count": 32,
   "metadata": {},
   "outputs": [],
   "source": [
    "from gpt import (\n",
    "    generate,\n",
    "    text_to_token_ids,\n",
    "    token_ids_to_text\n",
    ")\n",
    "\n",
    "token_ids = generate(\n",
    "    model=model,\n",
    "    idx=text_to_token_ids(input_text, tokenizer),\n",
    "    max_new_tokens=35,\n",
    "    context_size=BASE_CONFIG[\"context_length\"],\n",
    "    eos_id=50256,\n",
    ")\n",
    "generated_text = token_ids_to_text(token_ids, tokenizer)"
   ]
  },
  {
   "cell_type": "code",
   "execution_count": 33,
   "metadata": {},
   "outputs": [
    {
     "name": "stdout",
     "output_type": "stream",
     "text": [
      "### Output:\n",
      "\n",
      "The answer is:\n",
      "\n",
      "### Instruction:\n",
      "\n",
      "Provides a precise answer to the following question.\n",
      "\n",
      "### Input:\n"
     ]
    }
   ],
   "source": [
    "response_text = generated_text[len(input_text):].strip()\n",
    "print(response_text)"
   ]
  },
  {
   "cell_type": "markdown",
   "metadata": {},
   "source": [
    "On test le modèle avant le fine-tuning et on voit qu'il est vraimentmauvais à l'heure actuelle."
   ]
  },
  {
   "cell_type": "code",
   "execution_count": 34,
   "metadata": {},
   "outputs": [],
   "source": [
    "from gpt import (\n",
    "    calc_loss_loader,\n",
    "    train_model_simple\n",
    ")"
   ]
  },
  {
   "cell_type": "markdown",
   "metadata": {},
   "source": [
    "Nous calculons la perte initiale des ensembles d'entraînement et de validation avant de commencer l'entraînement."
   ]
  },
  {
   "cell_type": "code",
   "execution_count": 35,
   "metadata": {},
   "outputs": [
    {
     "name": "stdout",
     "output_type": "stream",
     "text": [
      "Training loss: 2.2456435203552245\n",
      "Validation loss: 2.3255316257476806\n"
     ]
    }
   ],
   "source": [
    "model.to(device)\n",
    "\n",
    "torch.manual_seed(123)\n",
    "\n",
    "with torch.no_grad():\n",
    "    train_loss = calc_loss_loader(train_loader, model, device, num_batches=5)\n",
    "    val_loss = calc_loss_loader(val_loader, model, device, num_batches=5)\n",
    "\n",
    "print(\"Training loss:\", train_loss)\n",
    "print(\"Validation loss:\", val_loss)"
   ]
  },
  {
   "cell_type": "markdown",
   "metadata": {},
   "source": [
    "Nous lançons ici le fine-tuning sur 2 epochs."
   ]
  },
  {
   "cell_type": "code",
   "execution_count": 36,
   "metadata": {},
   "outputs": [
    {
     "name": "stdout",
     "output_type": "stream",
     "text": [
      "Ep 1 (Step 000000): Train loss 2.132, Val loss 2.076\n",
      "Ep 1 (Step 000005): Train loss 1.780, Val loss 1.667\n",
      "Ep 1 (Step 000010): Train loss 1.555, Val loss 1.496\n",
      "Ep 1 (Step 000015): Train loss 1.384, Val loss 1.422\n",
      "Ep 1 (Step 000020): Train loss 1.445, Val loss 1.373\n",
      "Ep 1 (Step 000025): Train loss 1.354, Val loss 1.344\n",
      "Ep 1 (Step 000030): Train loss 1.357, Val loss 1.314\n",
      "Ep 1 (Step 000035): Train loss 1.356, Val loss 1.293\n",
      "Ep 1 (Step 000040): Train loss 1.285, Val loss 1.271\n",
      "Ep 1 (Step 000045): Train loss 1.378, Val loss 1.253\n",
      "Ep 1 (Step 000050): Train loss 1.209, Val loss 1.232\n",
      "Ep 1 (Step 000055): Train loss 1.191, Val loss 1.225\n",
      "Ep 1 (Step 000060): Train loss 1.137, Val loss 1.202\n",
      "Ep 1 (Step 000065): Train loss 1.116, Val loss 1.192\n",
      "Ep 1 (Step 000070): Train loss 1.104, Val loss 1.166\n",
      "Ep 1 (Step 000075): Train loss 1.183, Val loss 1.154\n",
      "Ep 1 (Step 000080): Train loss 1.092, Val loss 1.144\n",
      "Ep 1 (Step 000085): Train loss 1.099, Val loss 1.128\n",
      "Ep 1 (Step 000090): Train loss 1.062, Val loss 1.107\n",
      "Ep 1 (Step 000095): Train loss 1.143, Val loss 1.096\n",
      "Ep 1 (Step 000100): Train loss 1.061, Val loss 1.093\n",
      "Ep 1 (Step 000105): Train loss 1.098, Val loss 1.107\n",
      "Ep 1 (Step 000110): Train loss 1.041, Val loss 1.089\n",
      "Ep 1 (Step 000115): Train loss 0.888, Val loss 1.069\n",
      "Ep 1 (Step 000120): Train loss 1.041, Val loss 1.065\n",
      "Ep 1 (Step 000125): Train loss 1.081, Val loss 1.064\n",
      "Ep 1 (Step 000130): Train loss 1.010, Val loss 1.053\n",
      "Ep 1 (Step 000135): Train loss 1.001, Val loss 1.039\n",
      "Below is an instruction that describes a task. Write a response that appropriately completes the request.  ### Instruction: Provides a precise answer to the following question.  ### Input: What are the treatments for Osteoarthritis ?  ### Response: There are many different types of treatments for osteoarthritis. Some treatments are standard, and others are tailored to each patient. Treatments for osteoarthritis are based on the following:     \n",
      "Ep 2 (Step 000140): Train loss 1.003, Val loss 1.019\n",
      "Ep 2 (Step 000145): Train loss 0.929, Val loss 1.002\n",
      "Ep 2 (Step 000150): Train loss 0.920, Val loss 0.985\n",
      "Ep 2 (Step 000155): Train loss 0.790, Val loss 0.968\n",
      "Ep 2 (Step 000160): Train loss 0.884, Val loss 0.954\n",
      "Ep 2 (Step 000165): Train loss 0.812, Val loss 0.956\n",
      "Ep 2 (Step 000170): Train loss 0.813, Val loss 0.937\n",
      "Ep 2 (Step 000175): Train loss 0.942, Val loss 0.933\n",
      "Ep 2 (Step 000180): Train loss 0.975, Val loss 0.936\n",
      "Ep 2 (Step 000185): Train loss 0.903, Val loss 0.919\n",
      "Ep 2 (Step 000190): Train loss 0.819, Val loss 0.911\n",
      "Ep 2 (Step 000195): Train loss 0.831, Val loss 0.903\n",
      "Ep 2 (Step 000200): Train loss 0.803, Val loss 0.881\n",
      "Ep 2 (Step 000205): Train loss 0.851, Val loss 0.864\n",
      "Ep 2 (Step 000210): Train loss 0.739, Val loss 0.856\n",
      "Ep 2 (Step 000215): Train loss 0.774, Val loss 0.854\n",
      "Ep 2 (Step 000220): Train loss 0.999, Val loss 0.846\n",
      "Ep 2 (Step 000225): Train loss 0.906, Val loss 0.836\n",
      "Ep 2 (Step 000230): Train loss 0.833, Val loss 0.822\n",
      "Ep 2 (Step 000235): Train loss 0.726, Val loss 0.813\n",
      "Ep 2 (Step 000240): Train loss 0.712, Val loss 0.810\n",
      "Ep 2 (Step 000245): Train loss 0.749, Val loss 0.802\n",
      "Ep 2 (Step 000250): Train loss 0.577, Val loss 0.786\n",
      "Ep 2 (Step 000255): Train loss 0.807, Val loss 0.780\n",
      "Ep 2 (Step 000260): Train loss 0.699, Val loss 0.760\n",
      "Ep 2 (Step 000265): Train loss 0.737, Val loss 0.758\n",
      "Ep 2 (Step 000270): Train loss 0.642, Val loss 0.749\n",
      "Below is an instruction that describes a task. Write a response that appropriately completes the request.  ### Instruction: Provides a precise answer to the following question.  ### Input: What are the treatments for Osteoarthritis ?  ### Response: The most common treatment for osteoarthritis is surgery. Surgery is a procedure that removes bone and cartilage from the affected joint. It is used to relieve pain and restore function.<|endoftext|>The following is an instruction that\n",
      "Training completed in 224.76 minutes.\n"
     ]
    }
   ],
   "source": [
    "import time\n",
    "\n",
    "start_time = time.time()\n",
    "\n",
    "torch.manual_seed(123)\n",
    "\n",
    "optimizer = torch.optim.AdamW(model.parameters(), lr=0.00005, weight_decay=0.1)\n",
    "\n",
    "num_epochs = 2\n",
    "\n",
    "train_losses, val_losses, tokens_seen = train_model_simple(\n",
    "    model, train_loader, val_loader, optimizer, device,\n",
    "    num_epochs=num_epochs, eval_freq=5, eval_iter=5,\n",
    "    start_context=format_input(val_data[0]), tokenizer=tokenizer\n",
    ")\n",
    "\n",
    "end_time = time.time()\n",
    "execution_time_minutes = (end_time - start_time) / 60\n",
    "print(f\"Training completed in {execution_time_minutes:.2f} minutes.\")"
   ]
  },
  {
   "cell_type": "markdown",
   "metadata": {},
   "source": [
    "Comme nous pouvons le voir sur la base des résultats ci-dessus, le modèle s'entraîne bien, comme nous pouvons le constater sur la base des valeurs décroissantes de la perte d'entraînement et de la perte de validation\n",
    "De plus, en se basant sur le texte de réponse imprimé après chaque époque, nous pouvons voir que le modèle suit correctement l'instruction de convertir la phrase d'entrée « Le chef cuisine le repas tous les jours » en voix passive « Le repas est cuisiné tous les jours par le chef » (nous formaterons et évaluerons correctement les réponses dans une section ultérieure)."
   ]
  },
  {
   "cell_type": "code",
   "execution_count": 37,
   "metadata": {},
   "outputs": [
    {
     "data": {
      "image/png": "[encoded data removed]",
      "text/plain": [
       "<Figure size 500x300 with 2 Axes>"
      ]
     },
     "metadata": {},
     "output_type": "display_data"
    }
   ],
   "source": [
    "from gpt import plot_losses\n",
    "\n",
    "epochs_tensor = torch.linspace(0, num_epochs, len(train_losses))\n",
    "plot_losses(epochs_tensor, tokens_seen, train_losses, val_losses)"
   ]
  },
  {
   "cell_type": "markdown",
   "metadata": {},
   "source": [
    "Comme on peut le voir, la perte diminue fortement au début de la première époque, ce qui signifie que le modèle commence à apprendre rapidement\n",
    "La courbe de la perte de validation suit parfaitement la courbe de la perte d'entrainement ce qui est encourageant."
   ]
  },
  {
   "cell_type": "markdown",
   "metadata": {},
   "source": [
    "Nous testons notre modèle et comparons la réponse générée à la réponse attendue."
   ]
  },
  {
   "cell_type": "code",
   "execution_count": 38,
   "metadata": {},
   "outputs": [
    {
     "name": "stdout",
     "output_type": "stream",
     "text": [
      "Below is an instruction that describes a task. Write a response that appropriately completes the request.\n",
      "\n",
      "### Instruction:\n",
      "Provides a precise answer to the following question.\n",
      "\n",
      "### Input:\n",
      "What are the symptoms of Laryngeal Cancer ?\n",
      "\n",
      "Correct response:\n",
      ">> Signs and symptoms of laryngeal cancer include a sore throat and ear pain. These and other signs and symptoms may be caused by laryngeal cancer or by other conditions. Check with your doctor if you have any of the following:         - A sore throat or cough that does not go away.    - Trouble or pain when swallowing.    - Ear pain.    - A lump in the neck or throat.    - A change or hoarseness in the voice.\n",
      "\n",
      "Model response:\n",
      ">> Signs and symptoms of laryngeal cancer include a sore throat, ear pain, and difficulty swallowing. These and other signs and symptoms may be caused by laryngeal cancer or by other conditions. Check with your doctor if you have any of the following:         - A sore throat.    - Ear pain.    - Trouble swallowing.    - Trouble speaking.    - Trouble swallowing.    - Trouble speaking.    - Trouble swallowing.    - Trouble swallowing.    - Trouble speaking.    - Trouble swallowing.    - Trouble speaking.    - Trouble swallowing.    - Trouble speaking.    - Trouble swallowing.    - Trouble speaking.    - Trouble swallowing.    - Trouble speaking.    - Trouble swallowing.    - Trouble speaking.    - Trouble swallowing.    - Trouble speaking.    - Trouble swallowing.    - Trouble speaking.    - Trouble swallowing.    - Trouble speaking.\n",
      "-------------------------------------\n",
      "Below is an instruction that describes a task. Write a response that appropriately completes the request.\n",
      "\n",
      "### Instruction:\n",
      "Provides a precise answer to the following question.\n",
      "\n",
      "### Input:\n",
      "Who is at risk for Gallbladder Cancer? ?\n",
      "\n",
      "Correct response:\n",
      ">> Being female can increase the risk of developing gallbladder cancer. Anything that increases your chance of getting a disease is called a risk factor. Having a risk factor does not mean that you will get cancer; not having risk factors doesn't mean that you will not get cancer. Talk with your doctor if you think you may be at risk. Risk factors for gallbladder cancer include the following:         - Being female.    - Being Native American.\n",
      "\n",
      "Model response:\n",
      ">> The risk of gallbladder cancer is increased in both men and women. The risk is highest in men over age 50.\n",
      "-------------------------------------\n",
      "Below is an instruction that describes a task. Write a response that appropriately completes the request.\n",
      "\n",
      "### Instruction:\n",
      "Provides a precise answer to the following question.\n",
      "\n",
      "### Input:\n",
      "Who is at risk for Depression? ?\n",
      "\n",
      "Correct response:\n",
      ">> The risk factors for depression are family history, life experiences, and environment. If you have depression, you may have experienced it when you were younger, and may have a family history of the illness. You may also be going through difficult life events, such as physical or psychological trauma, losing a loved one, a difficult relationship with a family member or friend, or financial troubles. Any of these stressful experiences can lead to depression. For older adults who experience depression for the first time later in life, other factors may be at play. Depression may be related to changes that occur in the brain and body as a person ages. For example, some older adults who are at risk for illnesses such as heart disease or stroke may have hardening and inflammation of the blood vessels, and blood may not be able to flow normally to the body's organs, including the brain. Over time, this blood vessel disease and restricted blood flow can damage nearby brain tissue and harm the nerve connections that help different parts of the brain communicate with each other. If this happens, an older adult with no family history of depression may develop what some doctors call \"vascular depression.\" Older adults may also experience depression as a result of brain changes caused by illnesses such as Alzheimers disease or Parkinsons disease. This type of depression can appear in the early stages of these diseases, before many symptoms appear.\n",
      "\n",
      "Model response:\n",
      ">> The risk of developing depression increases as you age. The risk increases with age. It is estimated that one in every four American adults is at risk for developing depression. (Watch the video to learn more about the causes of depression. To enlarge the video, click the brackets in the lower right-hand corner. To reduce the video, press the Escape (Esc) button on your keyboard.) Depression is the most common mental illness among older adults. It is the most common mental illness among older adults. It is estimated that one in every four American adults is at risk for developing depression. (Watch the video to learn more about the causes of depression. To enlarge the video, click the brackets in the lower right-hand corner. To reduce the video, press the Escape (Esc) button on your keyboard.)\n",
      "-------------------------------------\n"
     ]
    }
   ],
   "source": [
    "torch.manual_seed(123)\n",
    "\n",
    "\n",
    "for entry in test_data[:3]:\n",
    "\n",
    "    input_text = format_input(entry)\n",
    "\n",
    "    token_ids = generate(\n",
    "        model=model,\n",
    "        idx=text_to_token_ids(input_text, tokenizer).to(device),\n",
    "        max_new_tokens=256,\n",
    "        context_size=BASE_CONFIG[\"context_length\"],\n",
    "        eos_id=50256\n",
    "    )\n",
    "    generated_text = token_ids_to_text(token_ids, tokenizer)\n",
    "    response_text = generated_text[len(input_text):].replace(\"### Response:\", \"\").strip()\n",
    "\n",
    "    print(input_text)\n",
    "    print(f\"\\nCorrect response:\\n>> {entry['output']}\")\n",
    "    print(f\"\\nModel response:\\n>> {response_text.strip()}\")\n",
    "    print(\"-------------------------------------\")"
   ]
  },
  {
   "cell_type": "markdown",
   "metadata": {},
   "source": [
    "Le modèle semble performer bien la réponse génére se rapproche fortement de la réponse attendue."
   ]
  },
  {
   "cell_type": "markdown",
   "metadata": {},
   "source": [
    "Maintenant, nous allons générer une réponse pour chaque échantillons de notre dataset de test pour les comparer avec les réponses attendues. Nous créons un fichier json instruction-data-with-response.json qui va stocker la réponse générée et la réponse attendue."
   ]
  },
  {
   "cell_type": "code",
   "execution_count": null,
   "metadata": {},
   "outputs": [
    {
     "name": "stderr",
     "output_type": "stream",
     "text": [
      " 45%|████▍     | 49/110 [52:19<1:28:32, 87.10s/it]"
     ]
    }
   ],
   "source": [
    "from tqdm import tqdm\n",
    "\n",
    "for i, entry in tqdm(enumerate(test_data), total=len(test_data)):\n",
    "\n",
    "    input_text = format_input(entry)\n",
    "\n",
    "    token_ids = generate(\n",
    "        model=model,\n",
    "        idx=text_to_token_ids(input_text, tokenizer).to(device),\n",
    "        max_new_tokens=256,\n",
    "        context_size=BASE_CONFIG[\"context_length\"],\n",
    "        eos_id=50256\n",
    "    )\n",
    "    generated_text = token_ids_to_text(token_ids, tokenizer)\n",
    "    response_text = generated_text[len(input_text):].replace(\"### Response:\", \"\").strip()\n",
    "\n",
    "    test_data[i][\"model_response\"] = response_text\n",
    "\n",
    "\n",
    "with open(\"instruction-data-with-response.json\", \"w\") as file:\n",
    "    json.dump(test_data, file, indent=4)  # \"indent\" for pretty-printing"
   ]
  },
  {
   "cell_type": "code",
   "execution_count": null,
   "metadata": {},
   "outputs": [],
   "source": [
    "print(test_data[0])"
   ]
  },
  {
   "cell_type": "markdown",
   "metadata": {},
   "source": [
    "Nous enregistrons notre modèle pour ne pas avoir à relancer le fine-tuning à chaque fois."
   ]
  },
  {
   "cell_type": "code",
   "execution_count": null,
   "metadata": {},
   "outputs": [],
   "source": [
    "import re\n",
    "\n",
    "\n",
    "file_name = f\"{re.sub(r'[ ()]', '', CHOOSE_MODEL) }-sft.pth\"\n",
    "torch.save(model.state_dict(), file_name)\n",
    "print(f\"Model saved as {file_name}\")\n",
    "\n",
    "# Load model via\n",
    "# model.load_state_dict(torch.load(\"gpt2-medium355M-sft.pth\"))"
   ]
  },
  {
   "cell_type": "markdown",
   "metadata": {},
   "source": [
    "Pour évaluer nos réponsesn nous allons utiliser le modèle llama3 grâce à ollama."
   ]
  },
  {
   "cell_type": "code",
   "execution_count": 1,
   "metadata": {},
   "outputs": [
    {
     "name": "stdout",
     "output_type": "stream",
     "text": [
      "Ollama running: True\n"
     ]
    }
   ],
   "source": [
    "import psutil\n",
    "\n",
    "def check_if_running(process_name):\n",
    "    running = False\n",
    "    for proc in psutil.process_iter([\"name\"]):\n",
    "        if process_name in proc.info[\"name\"]:\n",
    "            running = True\n",
    "            break\n",
    "    return running\n",
    "\n",
    "ollama_running = check_if_running(\"ollama\")\n",
    "\n",
    "if not ollama_running:\n",
    "    raise RuntimeError(\"Ollama not running. Launch ollama before proceeding.\")\n",
    "print(\"Ollama running:\", check_if_running(\"ollama\"))"
   ]
  },
  {
   "cell_type": "markdown",
   "metadata": {},
   "source": [
    "On vérifie que ollama est bien en train de tourné."
   ]
  },
  {
   "cell_type": "code",
   "execution_count": 4,
   "metadata": {},
   "outputs": [],
   "source": [
    "# This cell is optional; it allows you to restart the notebook\n",
    "# and only run section 7.7 without rerunning any of the previous code\n",
    "import json\n",
    "from tqdm import tqdm\n",
    "\n",
    "file_path = \"instruction-data-with-response.json\"\n",
    "\n",
    "with open(file_path, \"r\") as file:\n",
    "    test_data = json.load(file)\n",
    "\n",
    "\n",
    "def format_input(entry):\n",
    "    instruction_text = (\n",
    "        f\"Below is an instruction that describes a task. \"\n",
    "        f\"Write a response that appropriately completes the request.\"\n",
    "        f\"\\n\\n### Instruction:\\n{entry['instruction']}\"\n",
    "    )\n",
    "\n",
    "    input_text = f\"\\n\\n### Input:\\n{entry['input']}\" if entry[\"input\"] else \"\"\n",
    "\n",
    "    return instruction_text + input_text"
   ]
  },
  {
   "cell_type": "markdown",
   "metadata": {},
   "source": [
    "La fonction suivante permet d'envoyer un prompt au modèle désiré avec ollama."
   ]
  },
  {
   "cell_type": "code",
   "execution_count": 5,
   "metadata": {},
   "outputs": [],
   "source": [
    "import urllib.request\n",
    "\n",
    "def query_model(prompt, model=\"llama3\", url=\"http://localhost:11434/api/chat\"):\n",
    "    # Create the data payload as a dictionary\n",
    "    data = {\n",
    "        \"model\": model,\n",
    "        \"messages\": [\n",
    "            {\"role\": \"user\", \"content\": prompt}\n",
    "        ],\n",
    "        \"options\": {     # Settings below are required for deterministic responses\n",
    "            \"seed\": 123,\n",
    "            \"temperature\": 0,\n",
    "            \"num_ctx\": 2048\n",
    "        }\n",
    "    }\n",
    "\n",
    "\n",
    "    # Convert the dictionary to a JSON formatted string and encode it to bytes\n",
    "    payload = json.dumps(data).encode(\"utf-8\")\n",
    "\n",
    "    # Create a request object, setting the method to POST and adding necessary headers\n",
    "    request = urllib.request.Request(url, data=payload, method=\"POST\")\n",
    "    request.add_header(\"Content-Type\", \"application/json\")\n",
    "\n",
    "    # Send the request and capture the response\n",
    "    response_data = \"\"\n",
    "    with urllib.request.urlopen(request) as response:\n",
    "        # Read and decode the response\n",
    "        while True:\n",
    "            line = response.readline().decode(\"utf-8\")\n",
    "            if not line:\n",
    "                break\n",
    "            response_json = json.loads(line)\n",
    "            response_data += response_json[\"message\"][\"content\"]\n",
    "\n",
    "    return response_data\n",
    "\n",
    "\n",
    "model = \"llama3\""
   ]
  },
  {
   "cell_type": "markdown",
   "metadata": {},
   "source": [
    "On va générer un score pour chaque réponse et calculer la moyenne afin de voir si notre modèle fonctionne correctement."
   ]
  },
  {
   "cell_type": "code",
   "execution_count": null,
   "metadata": {},
   "outputs": [
    {
     "name": "stderr",
     "output_type": "stream",
     "text": [
      "Scoring entries:   0%|          | 0/110 [00:00<?, ?it/s]"
     ]
    },
    {
     "name": "stderr",
     "output_type": "stream",
     "text": [
      "Scoring entries:   4%|▎         | 4/110 [26:22<16:20:29, 555.00s/it]"
     ]
    }
   ],
   "source": [
    "def generate_model_scores(json_data, json_key, model=\"llama3\"):\n",
    "    scores = []\n",
    "    for entry in tqdm(json_data, desc=\"Scoring entries\"):\n",
    "        prompt = (\n",
    "            f\"Given the input `{format_input(entry)}` \"\n",
    "            f\"and correct output `{entry['output']}`, \"\n",
    "            f\"score the model response `{entry[json_key]}`\"\n",
    "            f\" on a scale from 0 to 100, where 100 is the best score. \"\n",
    "            f\"Respond with the integer number only.\"\n",
    "        )\n",
    "        score = query_model(prompt, model)\n",
    "        try:\n",
    "            scores.append(int(score))\n",
    "        except ValueError:\n",
    "            print(f\"Could not convert score: {score}\")\n",
    "            continue\n",
    "\n",
    "    return scores\n",
    "\n",
    "\n",
    "scores = generate_model_scores(test_data, \"model_response\")\n",
    "print(f\"Number of scores: {len(scores)} of {len(test_data)}\")\n",
    "print(f\"Average score: {sum(scores)/len(scores):.2f}\\n\")"
   ]
  },
  {
   "cell_type": "markdown",
   "metadata": {},
   "source": [
    "On obtient un score moyen de 36% ce qui peut sembler mauvais mais qui a contraire est plutôt encourageant car pour comme on peut le voir dans notre dataset les réponses sont très longues et pour mettre en place un fine-tuning pas trop long sur notre CPU on a décidé de mettre une longueur maximum des échantillons de 512 et la plupart des réponses dépasse cette longeur ce qui représente une perte d'information non négligeable entre le réponse générée et la réponse attendue. Dans le cas où l'on aurait accès à un GPU, on pourrai repasser cette longueur maximimum à 1024 permettant de ne plus perdre d'informations ce qui ferait grimper notre score moyen assez nettement. De plus à cause des performances limitées de nos pcs nous avons décidées de limiter notre dataset à 1100 échantillons alors qu'à la base il en contient 4000. Donc, l'utilisation d'un GPU permettrait d'enlever cette restriction et de mettre en place un modèle plus robuste capable de générées des réponses plus complètes sur un plus grand nombre de questions dans le domaine de la santé."
   ]
  },
  {
   "cell_type": "markdown",
   "metadata": {},
   "source": [
    "Si on veut aller encore plus loin et que l'on a une capacité de calcule beaucoup plus élevé que la nôtre, on pourrait même fine-tuné notre modèle sur le dataset medquad.csv qui contient plus de 16000 échantillons présent sur le même github que le dataset que l'on a utilisé."
   ]
  }
 ],
 "metadata": {
  "kernelspec": {
   "display_name": "Python 3",
   "language": "python",
   "name": "python3"
  },
  "language_info": {
   "codemirror_mode": {
    "name": "ipython",
    "version": 3
   },
   "file_extension": ".py",
   "mimetype": "text/x-python",
   "name": "python",
   "nbconvert_exporter": "python",
   "pygments_lexer": "ipython3",
   "version": "3.11.4"
  }
 },
 "nbformat": 4,
 "nbformat_minor": 2
}
